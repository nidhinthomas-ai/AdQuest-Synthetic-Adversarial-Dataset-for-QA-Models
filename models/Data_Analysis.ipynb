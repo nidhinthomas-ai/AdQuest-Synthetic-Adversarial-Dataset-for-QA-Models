{
  "cells": [
    {
      "cell_type": "code",
      "execution_count": null,
      "metadata": {
        "colab": {
          "base_uri": "https://localhost:8080/"
        },
        "id": "jdgZdLhmg1uu",
        "outputId": "9e22314b-a2a1-4b07-96b9-48c2a67faf65"
      },
      "outputs": [
        {
          "output_type": "stream",
          "name": "stdout",
          "text": [
            "device =  cpu\n"
          ]
        }
      ],
      "source": [
        "import torch\n",
        "device = torch.device('cuda') if torch.cuda.is_available() else torch.device('cpu')\n",
        "print('device = ', device)"
      ]
    },
    {
      "cell_type": "code",
      "execution_count": null,
      "metadata": {
        "colab": {
          "base_uri": "https://localhost:8080/"
        },
        "id": "Lzl83r0FvjX2",
        "outputId": "edcfc06a-5123-4431-de68-fc104535667c"
      },
      "outputs": [
        {
          "output_type": "stream",
          "name": "stdout",
          "text": [
            "Requirement already satisfied: pip in /usr/local/lib/python3.10/dist-packages (23.3.1)\n",
            "\u001b[33mWARNING: Running pip as the 'root' user can result in broken permissions and conflicting behaviour with the system package manager. It is recommended to use a virtual environment instead: https://pip.pypa.io/warnings/venv\u001b[0m\u001b[33m\n",
            "\u001b[0m"
          ]
        }
      ],
      "source": [
        "pip install --upgrade pip"
      ]
    },
    {
      "cell_type": "code",
      "execution_count": null,
      "metadata": {
        "colab": {
          "base_uri": "https://localhost:8080/"
        },
        "id": "yT1gYt-kvTn0",
        "outputId": "3d420b23-5b85-4c8e-f6c3-8b9c6e884536"
      },
      "outputs": [
        {
          "output_type": "stream",
          "name": "stdout",
          "text": [
            "fatal: destination path 'fp-dataset-artifacts' already exists and is not an empty directory.\n"
          ]
        }
      ],
      "source": [
        "!git clone https://github.com/gregdurrett/fp-dataset-artifacts.git"
      ]
    },
    {
      "cell_type": "code",
      "execution_count": null,
      "metadata": {
        "colab": {
          "base_uri": "https://localhost:8080/"
        },
        "id": "4vqX3io4vXes",
        "outputId": "e0ca92cc-7c47-4b83-e5b7-682567d8e8fe"
      },
      "outputs": [
        {
          "output_type": "stream",
          "name": "stdout",
          "text": [
            "Requirement already satisfied: accelerate in /usr/local/lib/python3.10/dist-packages (from -r ./fp-dataset-artifacts/requirements.txt (line 1)) (0.25.0)\n",
            "Requirement already satisfied: datasets in /usr/local/lib/python3.10/dist-packages (from -r ./fp-dataset-artifacts/requirements.txt (line 2)) (2.15.0)\n",
            "Requirement already satisfied: torch in /usr/local/lib/python3.10/dist-packages (from -r ./fp-dataset-artifacts/requirements.txt (line 3)) (2.1.0+cu118)\n",
            "Requirement already satisfied: tqdm in /usr/local/lib/python3.10/dist-packages (from -r ./fp-dataset-artifacts/requirements.txt (line 4)) (4.66.1)\n",
            "Requirement already satisfied: transformers in /usr/local/lib/python3.10/dist-packages (from -r ./fp-dataset-artifacts/requirements.txt (line 5)) (4.35.2)\n",
            "Requirement already satisfied: numpy>=1.17 in /usr/local/lib/python3.10/dist-packages (from accelerate->-r ./fp-dataset-artifacts/requirements.txt (line 1)) (1.23.5)\n",
            "Requirement already satisfied: packaging>=20.0 in /usr/local/lib/python3.10/dist-packages (from accelerate->-r ./fp-dataset-artifacts/requirements.txt (line 1)) (23.2)\n",
            "Requirement already satisfied: psutil in /usr/local/lib/python3.10/dist-packages (from accelerate->-r ./fp-dataset-artifacts/requirements.txt (line 1)) (5.9.5)\n",
            "Requirement already satisfied: pyyaml in /usr/local/lib/python3.10/dist-packages (from accelerate->-r ./fp-dataset-artifacts/requirements.txt (line 1)) (6.0.1)\n",
            "Requirement already satisfied: huggingface-hub in /usr/local/lib/python3.10/dist-packages (from accelerate->-r ./fp-dataset-artifacts/requirements.txt (line 1)) (0.19.4)\n",
            "Requirement already satisfied: safetensors>=0.3.1 in /usr/local/lib/python3.10/dist-packages (from accelerate->-r ./fp-dataset-artifacts/requirements.txt (line 1)) (0.4.1)\n",
            "Requirement already satisfied: pyarrow>=8.0.0 in /usr/local/lib/python3.10/dist-packages (from datasets->-r ./fp-dataset-artifacts/requirements.txt (line 2)) (9.0.0)\n",
            "Requirement already satisfied: pyarrow-hotfix in /usr/local/lib/python3.10/dist-packages (from datasets->-r ./fp-dataset-artifacts/requirements.txt (line 2)) (0.6)\n",
            "Requirement already satisfied: dill<0.3.8,>=0.3.0 in /usr/local/lib/python3.10/dist-packages (from datasets->-r ./fp-dataset-artifacts/requirements.txt (line 2)) (0.3.7)\n",
            "Requirement already satisfied: pandas in /usr/local/lib/python3.10/dist-packages (from datasets->-r ./fp-dataset-artifacts/requirements.txt (line 2)) (1.5.3)\n",
            "Requirement already satisfied: requests>=2.19.0 in /usr/local/lib/python3.10/dist-packages (from datasets->-r ./fp-dataset-artifacts/requirements.txt (line 2)) (2.31.0)\n",
            "Requirement already satisfied: xxhash in /usr/local/lib/python3.10/dist-packages (from datasets->-r ./fp-dataset-artifacts/requirements.txt (line 2)) (3.4.1)\n",
            "Requirement already satisfied: multiprocess in /usr/local/lib/python3.10/dist-packages (from datasets->-r ./fp-dataset-artifacts/requirements.txt (line 2)) (0.70.15)\n",
            "Requirement already satisfied: fsspec<=2023.10.0,>=2023.1.0 in /usr/local/lib/python3.10/dist-packages (from fsspec[http]<=2023.10.0,>=2023.1.0->datasets->-r ./fp-dataset-artifacts/requirements.txt (line 2)) (2023.6.0)\n",
            "Requirement already satisfied: aiohttp in /usr/local/lib/python3.10/dist-packages (from datasets->-r ./fp-dataset-artifacts/requirements.txt (line 2)) (3.9.1)\n",
            "Requirement already satisfied: filelock in /usr/local/lib/python3.10/dist-packages (from torch->-r ./fp-dataset-artifacts/requirements.txt (line 3)) (3.13.1)\n",
            "Requirement already satisfied: typing-extensions in /usr/local/lib/python3.10/dist-packages (from torch->-r ./fp-dataset-artifacts/requirements.txt (line 3)) (4.5.0)\n",
            "Requirement already satisfied: sympy in /usr/local/lib/python3.10/dist-packages (from torch->-r ./fp-dataset-artifacts/requirements.txt (line 3)) (1.12)\n",
            "Requirement already satisfied: networkx in /usr/local/lib/python3.10/dist-packages (from torch->-r ./fp-dataset-artifacts/requirements.txt (line 3)) (3.2.1)\n",
            "Requirement already satisfied: jinja2 in /usr/local/lib/python3.10/dist-packages (from torch->-r ./fp-dataset-artifacts/requirements.txt (line 3)) (3.1.2)\n",
            "Requirement already satisfied: triton==2.1.0 in /usr/local/lib/python3.10/dist-packages (from torch->-r ./fp-dataset-artifacts/requirements.txt (line 3)) (2.1.0)\n",
            "Requirement already satisfied: regex!=2019.12.17 in /usr/local/lib/python3.10/dist-packages (from transformers->-r ./fp-dataset-artifacts/requirements.txt (line 5)) (2023.6.3)\n",
            "Requirement already satisfied: tokenizers<0.19,>=0.14 in /usr/local/lib/python3.10/dist-packages (from transformers->-r ./fp-dataset-artifacts/requirements.txt (line 5)) (0.15.0)\n",
            "Requirement already satisfied: attrs>=17.3.0 in /usr/local/lib/python3.10/dist-packages (from aiohttp->datasets->-r ./fp-dataset-artifacts/requirements.txt (line 2)) (23.1.0)\n",
            "Requirement already satisfied: multidict<7.0,>=4.5 in /usr/local/lib/python3.10/dist-packages (from aiohttp->datasets->-r ./fp-dataset-artifacts/requirements.txt (line 2)) (6.0.4)\n",
            "Requirement already satisfied: yarl<2.0,>=1.0 in /usr/local/lib/python3.10/dist-packages (from aiohttp->datasets->-r ./fp-dataset-artifacts/requirements.txt (line 2)) (1.9.3)\n",
            "Requirement already satisfied: frozenlist>=1.1.1 in /usr/local/lib/python3.10/dist-packages (from aiohttp->datasets->-r ./fp-dataset-artifacts/requirements.txt (line 2)) (1.4.0)\n",
            "Requirement already satisfied: aiosignal>=1.1.2 in /usr/local/lib/python3.10/dist-packages (from aiohttp->datasets->-r ./fp-dataset-artifacts/requirements.txt (line 2)) (1.3.1)\n",
            "Requirement already satisfied: async-timeout<5.0,>=4.0 in /usr/local/lib/python3.10/dist-packages (from aiohttp->datasets->-r ./fp-dataset-artifacts/requirements.txt (line 2)) (4.0.3)\n",
            "Requirement already satisfied: charset-normalizer<4,>=2 in /usr/local/lib/python3.10/dist-packages (from requests>=2.19.0->datasets->-r ./fp-dataset-artifacts/requirements.txt (line 2)) (3.3.2)\n",
            "Requirement already satisfied: idna<4,>=2.5 in /usr/local/lib/python3.10/dist-packages (from requests>=2.19.0->datasets->-r ./fp-dataset-artifacts/requirements.txt (line 2)) (3.6)\n",
            "Requirement already satisfied: urllib3<3,>=1.21.1 in /usr/local/lib/python3.10/dist-packages (from requests>=2.19.0->datasets->-r ./fp-dataset-artifacts/requirements.txt (line 2)) (2.0.7)\n",
            "Requirement already satisfied: certifi>=2017.4.17 in /usr/local/lib/python3.10/dist-packages (from requests>=2.19.0->datasets->-r ./fp-dataset-artifacts/requirements.txt (line 2)) (2023.11.17)\n",
            "Requirement already satisfied: MarkupSafe>=2.0 in /usr/local/lib/python3.10/dist-packages (from jinja2->torch->-r ./fp-dataset-artifacts/requirements.txt (line 3)) (2.1.3)\n",
            "Requirement already satisfied: python-dateutil>=2.8.1 in /usr/local/lib/python3.10/dist-packages (from pandas->datasets->-r ./fp-dataset-artifacts/requirements.txt (line 2)) (2.8.2)\n",
            "Requirement already satisfied: pytz>=2020.1 in /usr/local/lib/python3.10/dist-packages (from pandas->datasets->-r ./fp-dataset-artifacts/requirements.txt (line 2)) (2023.3.post1)\n",
            "Requirement already satisfied: mpmath>=0.19 in /usr/local/lib/python3.10/dist-packages (from sympy->torch->-r ./fp-dataset-artifacts/requirements.txt (line 3)) (1.3.0)\n",
            "Requirement already satisfied: six>=1.5 in /usr/local/lib/python3.10/dist-packages (from python-dateutil>=2.8.1->pandas->datasets->-r ./fp-dataset-artifacts/requirements.txt (line 2)) (1.16.0)\n",
            "\u001b[33mWARNING: Running pip as the 'root' user can result in broken permissions and conflicting behaviour with the system package manager. It is recommended to use a virtual environment instead: https://pip.pypa.io/warnings/venv\u001b[0m\u001b[33m\n",
            "\u001b[0m"
          ]
        }
      ],
      "source": [
        "pip install -r ./fp-dataset-artifacts/requirements.txt"
      ]
    },
    {
      "cell_type": "code",
      "execution_count": null,
      "metadata": {
        "colab": {
          "base_uri": "https://localhost:8080/"
        },
        "id": "m0w_S1kPZ4Hk",
        "outputId": "0b96ef6c-1fe0-4fdc-db27-ee29a620944d"
      },
      "outputs": [
        {
          "output_type": "stream",
          "name": "stdout",
          "text": [
            "Requirement already satisfied: kaleido in /usr/local/lib/python3.10/dist-packages (0.2.1)\n",
            "\u001b[33mWARNING: Running pip as the 'root' user can result in broken permissions and conflicting behaviour with the system package manager. It is recommended to use a virtual environment instead: https://pip.pypa.io/warnings/venv\u001b[0m\u001b[33m\n",
            "\u001b[0m"
          ]
        }
      ],
      "source": [
        "pip install -U kaleido"
      ]
    },
    {
      "cell_type": "code",
      "execution_count": null,
      "metadata": {
        "colab": {
          "base_uri": "https://localhost:8080/"
        },
        "id": "IUVCuY3swnZ1",
        "outputId": "d072fe4b-d696-4a83-a6d8-aaf63d27b7a8"
      },
      "outputs": [
        {
          "output_type": "stream",
          "name": "stdout",
          "text": [
            "/content/fp-dataset-artifacts\n"
          ]
        }
      ],
      "source": [
        "cd fp-dataset-artifacts/"
      ]
    },
    {
      "cell_type": "code",
      "execution_count": null,
      "metadata": {
        "colab": {
          "base_uri": "https://localhost:8080/"
        },
        "id": "cls5eFAcM-Ih",
        "outputId": "94437a24-3793-4001-a502-1d309eec4c62"
      },
      "outputs": [
        {
          "output_type": "stream",
          "name": "stdout",
          "text": [
            "Updated git hooks.\n",
            "Git LFS initialized.\n"
          ]
        }
      ],
      "source": [
        "!git lfs install"
      ]
    },
    {
      "cell_type": "code",
      "execution_count": null,
      "metadata": {
        "colab": {
          "base_uri": "https://localhost:8080/",
          "height": 98,
          "referenced_widgets": [
            "78074460be144fa8bfc8907ade3cf9c5",
            "67432e3bc0f748809fe3b0346a64a0e8",
            "fc04f766bfb1433780f8b4ab655de885",
            "8ebed4f52e09459c9bbd01e338bb6a27",
            "0da99f4d0b8c496e8f5c08be5ad62148",
            "437a30ea49c04ba685494b33713c1515",
            "7abbc70ec86343b5880663a4a2255bac",
            "105267f6c06c47c0a6db28c63079dfe2",
            "01a15f7f01674c5fb6f9c35acc060f6a",
            "b951f39d49b2409f881e82769068a0d2",
            "4d6a48c62eee4a9b964acfa5119c80c2",
            "8f94b95240f245bc8966b38be6d541a6",
            "b0eda4f121364e1389f3634b2f2dabd9",
            "34accff0cabf4a92bd05dd1746a6d8ad",
            "40327e73ee574a6cab467ed393538058",
            "86b1129961084e149e2275f858a4b0ff",
            "c1741b6c372745249406d2c7507784ca",
            "4ee5b294878f4fd9a0b7e8af03d8ea07",
            "fe9892e6a75f474bad5a673274c2b8b7",
            "a8687a65b8114c9bb2aa2070498d79a5",
            "c63b21f22f6f45e1accb42a45c73ceb7",
            "b05095fc66a7434b8be0b07a3aaa58d3"
          ]
        },
        "id": "2u3p6iNF4FZs",
        "outputId": "74d2c03c-f5dc-4137-8de9-d64bc4e27181"
      },
      "outputs": [
        {
          "output_type": "display_data",
          "data": {
            "text/plain": [
              "Creating json from Arrow format:   0%|          | 0/88 [00:00<?, ?ba/s]"
            ],
            "application/vnd.jupyter.widget-view+json": {
              "version_major": 2,
              "version_minor": 0,
              "model_id": "78074460be144fa8bfc8907ade3cf9c5"
            }
          },
          "metadata": {}
        },
        {
          "output_type": "display_data",
          "data": {
            "text/plain": [
              "Creating json from Arrow format:   0%|          | 0/11 [00:00<?, ?ba/s]"
            ],
            "application/vnd.jupyter.widget-view+json": {
              "version_major": 2,
              "version_minor": 0,
              "model_id": "8f94b95240f245bc8966b38be6d541a6"
            }
          },
          "metadata": {}
        },
        {
          "output_type": "execute_result",
          "data": {
            "text/plain": [
              "11139706"
            ]
          },
          "metadata": {},
          "execution_count": 8
        }
      ],
      "source": [
        "from datasets import load_dataset\n",
        "datasets_squad = load_dataset(\"squad\")\n",
        "\n",
        "# Save the 'train' split to JSON\n",
        "datasets_squad[\"train\"].to_json('squad_train.json')\n",
        "\n",
        "# Save the 'train' split to JSON\n",
        "datasets_squad[\"validation\"].to_json('squad_validation.json')"
      ]
    },
    {
      "cell_type": "code",
      "execution_count": null,
      "metadata": {
        "colab": {
          "base_uri": "https://localhost:8080/"
        },
        "id": "1RPIv-u93Vmv",
        "outputId": "f783f907-93e8-443a-f0f6-ce0aa2ffaf8c"
      },
      "outputs": [
        {
          "output_type": "stream",
          "name": "stdout",
          "text": [
            "Requirement already satisfied: pandas in /usr/local/lib/python3.10/dist-packages (1.5.3)\n",
            "Requirement already satisfied: matplotlib in /usr/local/lib/python3.10/dist-packages (3.7.1)\n",
            "Requirement already satisfied: plotly in /usr/local/lib/python3.10/dist-packages (5.15.0)\n",
            "Requirement already satisfied: nltk in /usr/local/lib/python3.10/dist-packages (3.8.1)\n",
            "Requirement already satisfied: python-dateutil>=2.8.1 in /usr/local/lib/python3.10/dist-packages (from pandas) (2.8.2)\n",
            "Requirement already satisfied: pytz>=2020.1 in /usr/local/lib/python3.10/dist-packages (from pandas) (2023.3.post1)\n",
            "Requirement already satisfied: numpy>=1.21.0 in /usr/local/lib/python3.10/dist-packages (from pandas) (1.23.5)\n",
            "Requirement already satisfied: contourpy>=1.0.1 in /usr/local/lib/python3.10/dist-packages (from matplotlib) (1.2.0)\n",
            "Requirement already satisfied: cycler>=0.10 in /usr/local/lib/python3.10/dist-packages (from matplotlib) (0.12.1)\n",
            "Requirement already satisfied: fonttools>=4.22.0 in /usr/local/lib/python3.10/dist-packages (from matplotlib) (4.45.1)\n",
            "Requirement already satisfied: kiwisolver>=1.0.1 in /usr/local/lib/python3.10/dist-packages (from matplotlib) (1.4.5)\n",
            "Requirement already satisfied: packaging>=20.0 in /usr/local/lib/python3.10/dist-packages (from matplotlib) (23.2)\n",
            "Requirement already satisfied: pillow>=6.2.0 in /usr/local/lib/python3.10/dist-packages (from matplotlib) (9.4.0)\n",
            "Requirement already satisfied: pyparsing>=2.3.1 in /usr/local/lib/python3.10/dist-packages (from matplotlib) (3.1.1)\n",
            "Requirement already satisfied: tenacity>=6.2.0 in /usr/local/lib/python3.10/dist-packages (from plotly) (8.2.3)\n",
            "Requirement already satisfied: click in /usr/local/lib/python3.10/dist-packages (from nltk) (8.1.7)\n",
            "Requirement already satisfied: joblib in /usr/local/lib/python3.10/dist-packages (from nltk) (1.3.2)\n",
            "Requirement already satisfied: regex>=2021.8.3 in /usr/local/lib/python3.10/dist-packages (from nltk) (2023.6.3)\n",
            "Requirement already satisfied: tqdm in /usr/local/lib/python3.10/dist-packages (from nltk) (4.66.1)\n",
            "Requirement already satisfied: six>=1.5 in /usr/local/lib/python3.10/dist-packages (from python-dateutil>=2.8.1->pandas) (1.16.0)\n",
            "\u001b[33mWARNING: Running pip as the 'root' user can result in broken permissions and conflicting behaviour with the system package manager. It is recommended to use a virtual environment instead: https://pip.pypa.io/warnings/venv\u001b[0m\u001b[33m\n",
            "\u001b[0m"
          ]
        }
      ],
      "source": [
        "pip install pandas matplotlib plotly nltk"
      ]
    },
    {
      "cell_type": "code",
      "execution_count": null,
      "metadata": {
        "colab": {
          "base_uri": "https://localhost:8080/"
        },
        "id": "6JSk8ayZytj9",
        "outputId": "d02f75ea-ddf5-4a7e-e92d-adbf6f384226"
      },
      "outputs": [
        {
          "output_type": "stream",
          "name": "stderr",
          "text": [
            "[nltk_data] Downloading package punkt to /root/nltk_data...\n",
            "[nltk_data]   Package punkt is already up-to-date!\n"
          ]
        }
      ],
      "source": [
        "import pandas as pd\n",
        "import matplotlib.pyplot as plt\n",
        "import plotly.express as px\n",
        "from collections import Counter\n",
        "import nltk\n",
        "from nltk.tokenize import word_tokenize\n",
        "import json\n",
        "nltk.download('punkt')\n",
        "\n",
        "# Load the JSON dataset\n",
        "def load_json_dataset(filename):\n",
        "    data = []\n",
        "    with open(filename, 'r') as file:\n",
        "        for line in file:\n",
        "            try:\n",
        "                parsed_line = json.loads(line)\n",
        "                data.append(parsed_line)\n",
        "            except json.JSONDecodeError as e:\n",
        "                print(f\"Error parsing line: {e}\")\n",
        "                # You can add more sophisticated error handling here if needed\n",
        "    return pd.DataFrame.from_records(data)\n",
        "\n",
        "# Clean the dataset\n",
        "def clean_text(text):\n",
        "    # Implement any specific text cleaning here\n",
        "    return text\n",
        "\n",
        "# Histogram of word counts in questions\n",
        "def plot_word_count_histogram(questions):\n",
        "    word_counts = questions.apply(lambda x: len(x.split()))\n",
        "    plt.hist(word_counts, bins=20)\n",
        "    plt.title('Histogram of Question Word Counts')\n",
        "    plt.xlabel('Number of Words')\n",
        "    plt.ylabel('Frequency')\n",
        "    plt.show()"
      ]
    },
    {
      "cell_type": "code",
      "execution_count": null,
      "metadata": {
        "colab": {
          "base_uri": "https://localhost:8080/"
        },
        "id": "UDlu6Vhuz9WY",
        "outputId": "298294a0-c44d-4ad0-ef59-cc72d89c4563"
      },
      "outputs": [
        {
          "output_type": "stream",
          "name": "stderr",
          "text": [
            "[nltk_data] Downloading package punkt to /root/nltk_data...\n",
            "[nltk_data]   Package punkt is already up-to-date!\n"
          ]
        }
      ],
      "source": [
        "from datasets import load_dataset\n",
        "from nltk.util import ngrams\n",
        "from nltk import word_tokenize\n",
        "import nltk\n",
        "import plotly.express as px\n",
        "import plotly.io as pio\n",
        "nltk.download('punkt')\n",
        "\n",
        "def get_max_ngram_size(question, context):\n",
        "    question_tokens = word_tokenize(question)\n",
        "    context_tokens = word_tokenize(context)\n",
        "    max_n = min(len(question_tokens), len(context_tokens))\n",
        "\n",
        "    for n in range(max_n, 0, -1):\n",
        "        question_ngrams = set(ngrams(question_tokens, n))\n",
        "        context_ngrams = set(ngrams(context_tokens, n))\n",
        "        if question_ngrams.intersection(context_ngrams):\n",
        "            return n\n",
        "    return 0\n",
        "\n",
        "def plot_ngram_distribution(dataset, file_path, bar_color):\n",
        "    ngram_sizes = []\n",
        "\n",
        "    for example in dataset:\n",
        "        max_ngram = get_max_ngram_size(example['question'], example['context'])\n",
        "        ngram_sizes.append(max_ngram)\n",
        "\n",
        "    ngram_counter = Counter(ngram_sizes)\n",
        "    total = sum(ngram_counter.values())\n",
        "    normalized_ngrams = {ngram: count / total for ngram, count in ngram_counter.items()}\n",
        "\n",
        "    # Calculate mean and standard deviation\n",
        "    mean_ngram = np.mean(ngram_sizes)\n",
        "    std_ngram = np.std(ngram_sizes)\n",
        "\n",
        "    fig = px.bar(x=list(normalized_ngrams.keys()), y=list(normalized_ngrams.values()),\n",
        "                 labels={'x': 'N-gram Size', 'y': 'Normalized Frequency'},\n",
        "                 title='Normalized N-gram Size Distribution in Questions Against Context',\n",
        "                 color_discrete_sequence=[bar_color] if bar_color else None)\n",
        "\n",
        "    # Remove gridlines and update styles\n",
        "    fig.update_layout(xaxis=dict(showgrid=False, title_font=dict(size=24, color='black', family=\"Arial, bold\"),\n",
        "                                 tickfont=dict(size=18, color='black', family=\"Arial\")),\n",
        "                      yaxis=dict(showgrid=False, title_font=dict(size=24, color='black', family=\"Arial, bold\"),\n",
        "                                 tickfont=dict(size=18, color='black', family=\"Arial\")),\n",
        "                      font=dict(size=14, color=\"black\", family=\"Arial, bold\"),\n",
        "                      paper_bgcolor='rgba(0,0,0,0)',\n",
        "                      plot_bgcolor='rgba(0,0,0,0)')\n",
        "\n",
        "    # Set x-axis limit\n",
        "    fig.update_xaxes(range=[0, 10])\n",
        "\n",
        "    # Add text for mean and standard deviation\n",
        "    fig.add_annotation(text=f\"μ={mean_ngram:.2f}, σ={std_ngram:.2f}\",\n",
        "                       xref=\"paper\", yref=\"paper\",\n",
        "                       x=0.95, y=0.95, showarrow=False, font=dict(size=24, color=\"black\", family=\"Arial, bold\"))\n",
        "\n",
        "    pio.write_image(fig, file_path)\n",
        "    fig.show()\n"
      ]
    },
    {
      "cell_type": "markdown",
      "metadata": {
        "id": "v7OY9Jr2IcO3"
      },
      "source": [
        "Plotting the N-gram of the questions vs the contexts for SQuAD trian dataset."
      ]
    },
    {
      "cell_type": "code",
      "execution_count": null,
      "metadata": {
        "id": "R-ivChA5Qd9t"
      },
      "outputs": [],
      "source": [
        "# Load the SQuAD dataset\n",
        "import numpy as np\n",
        "datasets_squad = load_dataset(\"squad\")\n",
        "# plot_ngram_distribution(datasets_squad['train'], \"SQuAD_Train_N_Gram.png\", \"dodgerblue\")"
      ]
    },
    {
      "cell_type": "markdown",
      "metadata": {
        "id": "I4xx1UPZIkvr"
      },
      "source": [
        "Plotting the N-gram of the questions vs the contexts for SQuAD validation dataset."
      ]
    },
    {
      "cell_type": "code",
      "execution_count": null,
      "metadata": {
        "id": "5GZctAWdHgWd"
      },
      "outputs": [],
      "source": [
        "plot_ngram_distribution(datasets_squad['validation'], \"SQuAD_validation_N_Gram.png\", \"dodgerblue\")"
      ]
    },
    {
      "cell_type": "code",
      "execution_count": null,
      "metadata": {
        "colab": {
          "base_uri": "https://localhost:8080/"
        },
        "id": "42lWkLNjXnCG",
        "outputId": "bec9bced-3ef4-4c70-e2bf-e0db4595c26f"
      },
      "outputs": [
        {
          "output_type": "stream",
          "name": "stderr",
          "text": [
            "[nltk_data] Downloading package punkt to /root/nltk_data...\n",
            "[nltk_data]   Package punkt is already up-to-date!\n"
          ]
        }
      ],
      "source": [
        "from datasets import load_dataset\n",
        "import pandas as pd\n",
        "import plotly.express as px\n",
        "import nltk\n",
        "from nltk.tokenize import word_tokenize\n",
        "nltk.download('punkt')\n",
        "import plotly.io as pio\n",
        "\n",
        "# Combine train and validation questions\n",
        "train_questions = datasets_squad['train']['question']\n",
        "validation_questions = datasets_squad['validation']['question']\n",
        "\n",
        "def process_questions(questions):\n",
        "    processed_data = []\n",
        "    for question in questions:\n",
        "        words = word_tokenize(question)[:3]\n",
        "        for i in range(2, len(words)):\n",
        "            grandparent = words[i-2]\n",
        "            parent = words[i-1]\n",
        "            word = words[i]\n",
        "            processed_data.append({'grandparent': grandparent, 'parent': parent, 'word': word})\n",
        "    return processed_data"
      ]
    },
    {
      "cell_type": "code",
      "source": [
        "import plotly.io as pio\n",
        "# Sort by frequency and take the top 100 rows\n",
        "\n",
        "processed_data_SQuAD = process_questions(train_questions)\n",
        "\n",
        "# Creating a DataFrame for the sunburst plot\n",
        "SQuAD_training_DF = pd.DataFrame(processed_data_SQuAD)\n",
        "\n",
        "# Aggregate and count the frequency of each triplet\n",
        "SQuAD_training_agg_DF = SQuAD_training_DF.groupby(['grandparent', 'parent', 'word']).size().reset_index(name='frequency')\n",
        "SQuAD_training_agg_DF_head = SQuAD_training_agg_DF.sort_values('frequency', ascending=False).head(100)\n"
      ],
      "metadata": {
        "id": "JLbGPHCNkyzX"
      },
      "execution_count": null,
      "outputs": []
    },
    {
      "cell_type": "code",
      "execution_count": null,
      "metadata": {
        "id": "_ryMzxOgZPO6"
      },
      "outputs": [],
      "source": [
        "\n",
        "# Generate sunburst plot using the aggregated frequency of the top 100 rows\n",
        "fig = px.sunburst(\n",
        "    SQuAD_training_agg_DF_head,\n",
        "    path=['grandparent', 'parent', 'word'],\n",
        "    values='frequency',\n",
        "    title=\"Sunburst Plot of Word Triplets in Questions\"\n",
        ")\n",
        "fig.update_layout(width=800, height=800)\n",
        "\n",
        "# Save the figure as a PNG file\n",
        "file_path = \"SQuAD_Train_Word_Distribution.png\"  # You can specify a different path or filename\n",
        "pio.write_image(fig, file_path)\n",
        "\n",
        "fig.show()"
      ]
    },
    {
      "cell_type": "code",
      "source": [
        "import plotly.io as pio\n",
        "# Sort by frequency and take the top 100 rows\n",
        "\n",
        "processed_data_SQuAD_Validation = process_questions(train_questions)\n",
        "\n",
        "# Creating a DataFrame for the sunburst plot\n",
        "SQuAD_validation_DF = pd.DataFrame(processed_data_SQuAD_Validation)\n",
        "\n",
        "# Aggregate and count the frequency of each triplet\n",
        "SQuAD_validation_agg_DF = SQuAD_validation_DF.groupby(['grandparent', 'parent', 'word']).size().reset_index(name='frequency')\n",
        "SQuAD_validation_agg_DF_head = SQuAD_validation_agg_DF.sort_values('frequency', ascending=False).head(100)\n"
      ],
      "metadata": {
        "id": "nU8IVIFTk6BS"
      },
      "execution_count": null,
      "outputs": []
    },
    {
      "cell_type": "code",
      "execution_count": null,
      "metadata": {
        "id": "Kmzawk7CJiWV"
      },
      "outputs": [],
      "source": [
        "\n",
        "# Generate sunburst plot using the aggregated frequency of the top 100 rows\n",
        "fig = px.sunburst(\n",
        "    SQuAD_validation_agg_DF_head,\n",
        "    path=['grandparent', 'parent', 'word'],\n",
        "    values='frequency',\n",
        "    title=\"Sunburst Plot of Word Triplets in Questions\"\n",
        ")\n",
        "fig.update_layout(width=800, height=800)\n",
        "\n",
        "# Save the figure as a PNG file\n",
        "file_path = \"SQuAD_Validation_Word_Distribution.png\"  # You can specify a different path or filename\n",
        "pio.write_image(fig, file_path)\n",
        "\n",
        "fig.show()"
      ]
    },
    {
      "cell_type": "code",
      "execution_count": null,
      "metadata": {
        "id": "dTppa_K-PNft"
      },
      "outputs": [],
      "source": [
        "import plotly.express as px\n",
        "\n",
        "def plot_grandparent_frequency_bar_graph(df):\n",
        "    # Aggregate the frequencies by grandparent\n",
        "    grandparent_freq = df.groupby('grandparent')['frequency'].sum().reset_index()\n",
        "    grandparent_freq = grandparent_freq.sort_values('frequency', ascending=False)\n",
        "    # Create the bar graph\n",
        "    fig = px.bar(grandparent_freq.head(10), x='grandparent', y='frequency', title='Frequency of Question Words')\n",
        "    fig.show()"
      ]
    },
    {
      "cell_type": "code",
      "execution_count": null,
      "metadata": {
        "id": "7zSWNP4G74LA",
        "colab": {
          "base_uri": "https://localhost:8080/"
        },
        "outputId": "9c712b68-debb-41eb-eef9-12157ea82757"
      },
      "outputs": [
        {
          "output_type": "stream",
          "name": "stdout",
          "text": [
            "Archive:  aqa_v1.zip\n",
            "   creating: aqa_v1-2/\n",
            "replace __MACOSX/._aqa_v1-2? [y]es, [n]o, [A]ll, [N]one, [r]ename: "
          ]
        }
      ],
      "source": [
        "!unzip aqa_v1.zip"
      ]
    },
    {
      "cell_type": "code",
      "source": [
        "!ls"
      ],
      "metadata": {
        "id": "ibgz78Rmj779"
      },
      "execution_count": null,
      "outputs": []
    },
    {
      "cell_type": "code",
      "execution_count": null,
      "metadata": {
        "id": "WGfLhEnp78NJ"
      },
      "outputs": [],
      "source": [
        "dataset_aqa_combined_train = load_dataset (\"json\", data_files=\"./aqa_v1/combined/train.json\")\n",
        "dataset_aqa_combined_test = load_dataset (\"json\", data_files=\"./aqa_v1/combined/test.json\")"
      ]
    },
    {
      "cell_type": "code",
      "execution_count": null,
      "metadata": {
        "id": "5if9iKBx-Ig2"
      },
      "outputs": [],
      "source": [
        "import json\n",
        "from datasets import Dataset\n",
        "\n",
        "def convert_to_dataset_dict(file_path, output_file_path, split):\n",
        "    # Read the JSON file\n",
        "    with open(file_path, 'r') as file:\n",
        "        data = json.load(file)\n",
        "\n",
        "    # Extract and reformat the data\n",
        "    formatted_data = []  # Initialize as a list\n",
        "    for article in data[\"data\"]:\n",
        "        title = article[\"title\"]\n",
        "        for paragraph in article[\"paragraphs\"]:\n",
        "            context = paragraph[\"context\"]\n",
        "            for qa in paragraph[\"qas\"]:\n",
        "                id = qa[\"id\"]\n",
        "                question = qa[\"question\"]\n",
        "                # Process answers\n",
        "                answers = {\"text\": [], \"answer_start\": []}\n",
        "                if \"answers\" in qa and qa[\"answers\"]:\n",
        "                    for answer in qa['answers']:\n",
        "                        answers[\"text\"].append(answer[\"text\"])\n",
        "                        answers[\"answer_start\"].append(answer[\"answer_start\"])\n",
        "                # Append the extracted data in the required format\n",
        "                formatted_item = {\n",
        "                    \"id\": id,\n",
        "                    \"title\": title,\n",
        "                    \"context\": context,\n",
        "                    \"question\": question,\n",
        "                    \"answers\": answers\n",
        "                }\n",
        "                formatted_data.append(formatted_item)\n",
        "\n",
        "    # Write the formatted data to a new JSON file with each entry on a new line\n",
        "    with open(output_file_path, 'w') as outfile:\n",
        "        for item in formatted_data:\n",
        "            json.dump(item, outfile)\n",
        "            outfile.write('\\n')\n",
        "\n",
        "    # Convert the formatted data into a Dataset object\n",
        "    dataset = Dataset.from_dict({k: [dic[k] for dic in formatted_data] for k in formatted_data[0]})\n",
        "\n",
        "    return dataset"
      ]
    },
    {
      "cell_type": "code",
      "execution_count": null,
      "metadata": {
        "colab": {
          "base_uri": "https://localhost:8080/"
        },
        "id": "flezwk7s_TpA",
        "outputId": "7b6b3c47-bec2-498d-face-c2863f75a683"
      },
      "outputs": [
        {
          "output_type": "execute_result",
          "data": {
            "text/plain": [
              "Dataset({\n",
              "    features: ['id', 'title', 'context', 'question', 'answers'],\n",
              "    num_rows: 30000\n",
              "})"
            ]
          },
          "metadata": {},
          "execution_count": 21
        }
      ],
      "source": [
        "datasets_train_aqa = convert_to_dataset_dict(\"/content/fp-dataset-artifacts/aqa_v1/combined/train.json\", \"./train_aqa.json\", \"train\")\n",
        "datasets_train_aqa"
      ]
    },
    {
      "cell_type": "code",
      "execution_count": null,
      "metadata": {
        "colab": {
          "base_uri": "https://localhost:8080/"
        },
        "id": "j5XyzFiN-hod",
        "outputId": "5fd6da43-88f7-4830-c13a-66f8bf54bbe7"
      },
      "outputs": [
        {
          "output_type": "execute_result",
          "data": {
            "text/plain": [
              "Dataset({\n",
              "    features: ['id', 'title', 'context', 'question', 'answers'],\n",
              "    num_rows: 3000\n",
              "})"
            ]
          },
          "metadata": {},
          "execution_count": 22
        }
      ],
      "source": [
        "datasets_validation_aqa = convert_to_dataset_dict(\"/content/fp-dataset-artifacts/aqa_v1/combined/dev.json\", \"./dev_aqa.json\", \"validation\")\n",
        "datasets_validation_aqa"
      ]
    },
    {
      "cell_type": "code",
      "execution_count": null,
      "metadata": {
        "colab": {
          "base_uri": "https://localhost:8080/"
        },
        "id": "0Bok0KyX_mA6",
        "outputId": "60afbd6a-a0b2-4375-8d4d-aad82d872cbd"
      },
      "outputs": [
        {
          "output_type": "execute_result",
          "data": {
            "text/plain": [
              "DatasetDict({\n",
              "    train: Dataset({\n",
              "        features: ['id', 'title', 'context', 'question', 'answers'],\n",
              "        num_rows: 30000\n",
              "    })\n",
              "    validation: Dataset({\n",
              "        features: ['id', 'title', 'context', 'question', 'answers'],\n",
              "        num_rows: 3000\n",
              "    })\n",
              "})"
            ]
          },
          "metadata": {},
          "execution_count": 23
        }
      ],
      "source": [
        "from datasets import DatasetDict\n",
        "dataset_aqa_combined = DatasetDict({\n",
        "    'train': datasets_train_aqa,\n",
        "    'validation': datasets_validation_aqa\n",
        "})\n",
        "dataset_aqa_combined"
      ]
    },
    {
      "cell_type": "code",
      "execution_count": null,
      "metadata": {
        "id": "qAjM32qnUnWh"
      },
      "outputs": [],
      "source": []
    },
    {
      "cell_type": "code",
      "execution_count": null,
      "metadata": {
        "id": "-asiQ947-aGw"
      },
      "outputs": [],
      "source": [
        "# Combine train and validation questions\n",
        "aqa_train_questions = dataset_aqa_combined['train']['question']\n",
        "aqa_validation_questions = dataset_aqa_combined['validation']['question']\n",
        "\n",
        "processed_data_aqa_train = process_questions(aqa_train_questions)\n",
        "\n",
        "# Creating a DataFrame for the sunburst plot\n",
        "AQA_Train_DF = pd.DataFrame(processed_data_aqa_train)\n",
        "\n",
        "# Convert 'grandparent', 'parent', and 'word' columns to lowercase to avoid case-sensitive distinctions\n",
        "AQA_Train_DF['grandparent'] = AQA_Train_DF['grandparent'].str.lower()\n",
        "AQA_Train_DF['parent'] = AQA_Train_DF['parent'].str.lower()\n",
        "AQA_Train_DF['word'] = AQA_Train_DF['word'].str.lower()\n",
        "\n",
        "# Aggregate and count the frequency of each triplet\n",
        "AQA_Train_agg_DF = AQA_Train_DF.groupby(['grandparent', 'parent', 'word']).size().reset_index(name='frequency')"
      ]
    },
    {
      "cell_type": "code",
      "execution_count": null,
      "metadata": {
        "colab": {
          "background_save": true
        },
        "id": "ljKDxDDU_6fs"
      },
      "outputs": [],
      "source": [
        "import plotly.io as pio\n",
        "\n",
        "# Sort by frequency and take the top 100 rows\n",
        "AQA_Train_agg_DF_head = AQA_Train_agg_DF.sort_values('frequency', ascending=False)\n",
        "\n",
        "# Generate sunburst plot using the aggregated frequency of the top 100 rows\n",
        "fig = px.sunburst(\n",
        "    AQA_Train_agg_DF_head,\n",
        "    path=['grandparent', 'parent', 'word'],\n",
        "    values='frequency',\n",
        "    title=\"Sunburst Plot of Word Triplets in Questions\"\n",
        ")\n",
        "fig.update_layout(width=800, height=800)\n",
        "\n",
        "# Save the figure as a PNG file\n",
        "file_path = \"AQA_Train_Word_Distribution.png\"  # You can specify a different path or filename\n",
        "pio.write_image(fig, file_path)\n",
        "\n",
        "fig.show()\n"
      ]
    },
    {
      "cell_type": "code",
      "execution_count": null,
      "metadata": {
        "id": "4x1ZUxhQL2Nv"
      },
      "outputs": [],
      "source": [
        "# validation questions\n",
        "aqa_validation_questions = dataset_aqa_combined['validation']['question']\n",
        "\n",
        "processed_data_aqa_validation = process_questions(aqa_validation_questions)\n",
        "\n",
        "# Creating a DataFrame for the sunburst plot\n",
        "AQA_Validation_DF = pd.DataFrame(processed_data_aqa_validation)\n",
        "\n",
        "# Convert 'grandparent', 'parent', and 'word' columns to lowercase to avoid case-sensitive distinctions\n",
        "AQA_Validation_DF['grandparent'] = AQA_Validation_DF['grandparent'].str.lower()\n",
        "AQA_Validation_DF['parent'] = AQA_Validation_DF['parent'].str.lower()\n",
        "AQA_Validation_DF['word'] = AQA_Validation_DF['word'].str.lower()\n",
        "\n",
        "\n",
        "# Aggregate and count the frequency of each triplet\n",
        "AQA_Validation_agg_DF = AQA_Validation_DF.groupby(['grandparent', 'parent', 'word']).size().reset_index(name='frequency')"
      ]
    },
    {
      "cell_type": "code",
      "execution_count": null,
      "metadata": {
        "colab": {
          "background_save": true
        },
        "id": "N_Sq7sZ3L3Uk"
      },
      "outputs": [],
      "source": [
        "import plotly.io as pio\n",
        "# Sort by frequency and take the top 100 rows\n",
        "AQA_Validation_agg_DF_head = AQA_Validation_agg_DF.sort_values('frequency', ascending=False)\n",
        "\n",
        "# Generate sunburst plot using the aggregated frequency of the top 100 rows\n",
        "fig = px.sunburst(\n",
        "    AQA_Validation_agg_DF_head,\n",
        "    path=['grandparent', 'parent', 'word'],\n",
        "    values='frequency',\n",
        "    title=\"Sunburst Plot of Word Triplets in Questions\"\n",
        ")\n",
        "fig.update_layout(width=800, height=800)\n",
        "\n",
        "# Save the figure as a PNG file\n",
        "file_path = \"AQA_Validation_Word_Distribution.png\"  # You can specify a different path or filename\n",
        "pio.write_image(fig, file_path)\n",
        "\n",
        "fig.show()"
      ]
    },
    {
      "cell_type": "code",
      "execution_count": null,
      "metadata": {
        "colab": {
          "background_save": true
        },
        "id": "3OWkJ5ZmN73h"
      },
      "outputs": [],
      "source": [
        "plot_ngram_distribution(dataset_aqa_combined['train'], \"AQA_Train_N_Gram.png\", \"firebrick\")"
      ]
    },
    {
      "cell_type": "code",
      "execution_count": null,
      "metadata": {
        "colab": {
          "background_save": true
        },
        "id": "TeyQzt3_OmtJ"
      },
      "outputs": [],
      "source": [
        "plot_ngram_distribution(dataset_aqa_combined['validation'], \"AQA_Validation_N_Gram.png\", \"firebrick\")"
      ]
    },
    {
      "cell_type": "code",
      "execution_count": null,
      "metadata": {
        "id": "s1JpBhqvPH9P"
      },
      "outputs": [],
      "source": [
        "datasets_squad_adversarial = load_dataset(\"squad_adversarial\", \"AddSent\")\n",
        "\n",
        "# validation questions\n",
        "squad_adversarial_validation_questions = datasets_squad_adversarial['validation']['question']\n",
        "\n",
        "processed_data_squad_adversarial_validation = process_questions(squad_adversarial_validation_questions)\n",
        "\n",
        "# Creating a DataFrame for the sunburst plot\n",
        "SQuAD_Adversarial_Validation_DF = pd.DataFrame(processed_data_squad_adversarial_validation)\n",
        "\n",
        "# Convert 'grandparent', 'parent', and 'word' columns to lowercase to avoid case-sensitive distinctions\n",
        "SQuAD_Adversarial_Validation_DF['grandparent'] = SQuAD_Adversarial_Validation_DF['grandparent'].str.lower()\n",
        "SQuAD_Adversarial_Validation_DF['parent'] = SQuAD_Adversarial_Validation_DF['parent'].str.lower()\n",
        "SQuAD_Adversarial_Validation_DF['word'] = SQuAD_Adversarial_Validation_DF['word'].str.lower()\n",
        "\n",
        "\n",
        "# Aggregate and count the frequency of each triplet\n",
        "SQuAD_Adversarial_Validation_agg_DF = SQuAD_Adversarial_Validation_DF.groupby(['grandparent', 'parent', 'word']).size().reset_index(name='frequency')"
      ]
    },
    {
      "cell_type": "code",
      "execution_count": null,
      "metadata": {
        "id": "c3d1wtyEPgto"
      },
      "outputs": [],
      "source": [
        "import plotly.io as pio\n",
        "# Sort by frequency and take the top 100 rows\n",
        "SQuAD_Adversarial_Validation_agg_DF_head = SQuAD_Adversarial_Validation_agg_DF.sort_values('frequency', ascending=False)\n",
        "\n"
      ]
    },
    {
      "cell_type": "code",
      "source": [
        "# Generate sunburst plot using the aggregated frequency of the top 100 rows\n",
        "fig = px.sunburst(\n",
        "    SQuAD_Adversarial_Validation_agg_DF_head,\n",
        "    path=['grandparent', 'parent', 'word'],\n",
        "    values='frequency',\n",
        "    title=\"Sunburst Plot of Word Triplets in Questions\"\n",
        ")\n",
        "fig.update_layout(width=800, height=800)\n",
        "\n",
        "# Save the figure as a PNG file\n",
        "file_path = \"SQuAD_Adversarial_Validation_Word_Distribution.png\"  # You can specify a different path or filename\n",
        "pio.write_image(fig, file_path)\n",
        "\n",
        "fig.show()"
      ],
      "metadata": {
        "id": "VqFK_WvAla0V"
      },
      "execution_count": null,
      "outputs": []
    },
    {
      "cell_type": "code",
      "execution_count": null,
      "metadata": {
        "colab": {
          "background_save": true
        },
        "id": "AjMSYS_dZYtQ"
      },
      "outputs": [],
      "source": [
        "plot_ngram_distribution(datasets_squad_adversarial['validation'], \"SQuAD_Adversarial_Validation_N_Gram.png\", \"darkgreen\")"
      ]
    },
    {
      "cell_type": "code",
      "execution_count": null,
      "metadata": {
        "colab": {
          "base_uri": "https://localhost:8080/",
          "height": 241,
          "referenced_widgets": [
            "340d1498187b45dc92d80272d57cc925",
            "f817e0908de34cb6bdd6245bfcb104ed",
            "ce3b3be2e0794b6fa94eee79ff69f532",
            "33fa6e5bb99a421eac80671fcd3700f2",
            "a949cb018c01467fae6de76c3846ed7d",
            "4e226df004e743a0b0e711cc13a08500",
            "3cde8c384d9a4b918c6067ed14344e15",
            "b301474ada9e44d7a3b122b8aceed1cf",
            "689751a7752c479f951fabd746e6c0bf",
            "555b3d6931474375955630fae456f980",
            "81621e197f604bc98393631d7ef2a649",
            "63e88085ce2b4fbca134c7ddf44ef83a",
            "122e2ad9b8d142c5999d0404b2072589",
            "e9d245cbf0494e129af6df292067f1b7",
            "4a773ccbe4384762b4acd9a0818b41e7",
            "4c78be107dea4424bdf4c71d41cbb302",
            "3016778b375e49a3813952f651d72d12",
            "7b223c1614604182977f3f41c3d99bba",
            "a204ee96b72148fa9b93c4a61c736504",
            "1b04fe7bfbde43d6b98c867aed8b8e4e",
            "f87c5cc5ba864257895f3fa44e51b324",
            "2e9a9471d1be45c8a51b966d69592877",
            "4fd915988c5a45528e11eaa6652bfbc7",
            "1819fbbe6fc541b3b3c580a6037a7c87",
            "8c5b72afec334d5e94677da94f20f33e",
            "531a3f6465a44572b39c46931626ecab",
            "47403cdef11749578f8434068172aa12",
            "658ee1a1bb474fd8bcf16cf8188e68d0",
            "d1b84f2f884a40fcbf366886b01b71a2",
            "d660dc4cc2f84017810df4965f206e57",
            "95472cfe92cd495ba511af374c7dd4d9",
            "118d59e774a945a69b318b8f65f4c3d4",
            "a00efaecb5cb4cfbabea216b35d9a5ee",
            "b26af41582c045038c80699d7be1fff6",
            "41397f8e878b42a3b71ab7949ef0780d",
            "575c5f9411384631b49f5115bfa83719",
            "5c5ffdc7c995418d83518546aa5a34ed",
            "8d5dd522854c48beb5a642233e95ecb6",
            "6152a2d427b045a5977119882c52fb66",
            "0a0089aa87aa46f3a18d26de50eaf286",
            "66a5499263fb4c3f9215437f12cba955",
            "96a29befe16c4453906dd1e7b4eff559",
            "95e97fdf99a8457d8d1986e1459f7330",
            "eba753af510e485da98592f560bb0f14",
            "96e10deed00b47a7b8f887bcefb9b81b",
            "d70533df58734c5d9a155b36029c770e",
            "4265d05fcbd04af2a0caa69b0db1d06c",
            "93a05c595d334af7b9447f8afdcfaa91",
            "4e4f3f11e02e43e59c13eb96b36e89e1",
            "d4b175bd430e4fdb8cb3794f86529e79",
            "b3c94c2a5a324200bf2296b5eb647eaf",
            "89f49711ee7f4b0090e49ec5fa249e8b",
            "42c4a28d6d38438e8f867822dc7cc939",
            "17f39f67558946cf90121145666952fa",
            "dfbdec7c6bfb4e6cbf8f841682c48b9f",
            "69fb15ad6cf04f89b3f3999f978d6014",
            "f9b9c05e7e75499e98aa117f3ae60fff",
            "500899c380e14e0c8f8cc39d94c0ab7e",
            "2756edb8adbe457bb109ef538b9c97b3",
            "542476c37eaa49a58e7e40893e665109",
            "aa15a9dc8a7547919b1e067bcfeb9c26",
            "b09414c7c94948918a7dcf813af5fb40",
            "c84e0f93456e4d42b1825ca0c6c680f3",
            "efe12e0b34e64a61a655826b57edcfb1",
            "74332bcfcb5440a8971781a4efe5b0c5",
            "4cae59a7e8714f75b67397de77730d3c",
            "f1bb451f37fc4d7f98b34175106ca830",
            "f12cefd982524e84b81bdd3d464f9fcb",
            "07f50516ce9943668a9715612982b11d",
            "0b9cd2f9b7b84160b1b51be8f0b2b39b",
            "c398e95abde24acb8361bdb3028bcefa",
            "576f2b43b4ca43e5abe91970ce8252a5",
            "a8dd7db675094da780dfc2273f876119",
            "034dde2fb0da46b1a737fc6768f10b7f",
            "2e47f5afa4b84e83b5779fafa1fb95b8",
            "4b3e6987c267472cbe9e1aa0a01d180a",
            "b5e0951292704945832f6de24c89d9ee"
          ]
        },
        "id": "5WQjMNTLUrfs",
        "outputId": "8342963f-ea00-4f49-a8ce-05a85115edce"
      },
      "outputs": [
        {
          "output_type": "display_data",
          "data": {
            "text/plain": [
              "Downloading builder script:   0%|          | 0.00/7.63k [00:00<?, ?B/s]"
            ],
            "application/vnd.jupyter.widget-view+json": {
              "version_major": 2,
              "version_minor": 0,
              "model_id": "340d1498187b45dc92d80272d57cc925"
            }
          },
          "metadata": {}
        },
        {
          "output_type": "display_data",
          "data": {
            "text/plain": [
              "Downloading metadata:   0%|          | 0.00/5.65k [00:00<?, ?B/s]"
            ],
            "application/vnd.jupyter.widget-view+json": {
              "version_major": 2,
              "version_minor": 0,
              "model_id": "63e88085ce2b4fbca134c7ddf44ef83a"
            }
          },
          "metadata": {}
        },
        {
          "output_type": "display_data",
          "data": {
            "text/plain": [
              "Downloading readme:   0%|          | 0.00/10.8k [00:00<?, ?B/s]"
            ],
            "application/vnd.jupyter.widget-view+json": {
              "version_major": 2,
              "version_minor": 0,
              "model_id": "4fd915988c5a45528e11eaa6652bfbc7"
            }
          },
          "metadata": {}
        },
        {
          "output_type": "display_data",
          "data": {
            "text/plain": [
              "Downloading data:   0%|          | 0.00/67.7M [00:00<?, ?B/s]"
            ],
            "application/vnd.jupyter.widget-view+json": {
              "version_major": 2,
              "version_minor": 0,
              "model_id": "b26af41582c045038c80699d7be1fff6"
            }
          },
          "metadata": {}
        },
        {
          "output_type": "display_data",
          "data": {
            "text/plain": [
              "Generating train split:   0%|          | 0/314811 [00:00<?, ? examples/s]"
            ],
            "application/vnd.jupyter.widget-view+json": {
              "version_major": 2,
              "version_minor": 0,
              "model_id": "96e10deed00b47a7b8f887bcefb9b81b"
            }
          },
          "metadata": {}
        },
        {
          "output_type": "display_data",
          "data": {
            "text/plain": [
              "Filter:   0%|          | 0/314811 [00:00<?, ? examples/s]"
            ],
            "application/vnd.jupyter.widget-view+json": {
              "version_major": 2,
              "version_minor": 0,
              "model_id": "69fb15ad6cf04f89b3f3999f978d6014"
            }
          },
          "metadata": {}
        },
        {
          "output_type": "display_data",
          "data": {
            "text/plain": [
              "Creating json from Arrow format:   0%|          | 0/68 [00:00<?, ?ba/s]"
            ],
            "application/vnd.jupyter.widget-view+json": {
              "version_major": 2,
              "version_minor": 0,
              "model_id": "f1bb451f37fc4d7f98b34175106ca830"
            }
          },
          "metadata": {}
        }
      ],
      "source": [
        "from datasets import load_dataset\n",
        "\n",
        "# Load the dataset\n",
        "dataset_AdQuest_parent = load_dataset(\"mbartolo/synQA\")\n",
        "\n",
        "# Define a filter function\n",
        "def starts_with_specific_words(example):\n",
        "    question_start_words = [\"when\", \"where\", \"which\", \"how many\"]\n",
        "    question_lower = example['question'].lower()\n",
        "    return any(question_lower.startswith(word) for word in question_start_words)\n",
        "\n",
        "# Filter the dataset\n",
        "AdQuest = dataset_AdQuest_parent['train'].filter(starts_with_specific_words)\n",
        "\n",
        "# Save the filtered 'train' split to JSON\n",
        "AdQuest.to_json('AdQuest_train.json')\n",
        "\n",
        "# Combine train and validation questions\n",
        "AdQuest_train_questions = AdQuest['question']\n",
        "\n",
        "processed_data_AdQuest_train = process_questions(AdQuest_train_questions)\n",
        "\n",
        "# Creating a DataFrame for the sunburst plot\n",
        "AdQuest_Train_DF = pd.DataFrame(processed_data_AdQuest_train)\n",
        "\n",
        "# Convert 'grandparent', 'parent', and 'word' columns to lowercase to avoid case-sensitive distinctions\n",
        "AdQuest_Train_DF['grandparent'] = AdQuest_Train_DF['grandparent'].str.lower()\n",
        "AdQuest_Train_DF['parent'] = AdQuest_Train_DF['parent'].str.lower()\n",
        "AdQuest_Train_DF['word'] = AdQuest_Train_DF['word'].str.lower()\n",
        "\n",
        "# Aggregate and count the frequency of each triplet\n",
        "AdQuest_Train_agg_DF = AdQuest_Train_DF.groupby(['grandparent', 'parent', 'word']).size().reset_index(name='frequency')"
      ]
    },
    {
      "cell_type": "code",
      "execution_count": null,
      "metadata": {
        "colab": {
          "background_save": true
        },
        "id": "PQkus980UrjW"
      },
      "outputs": [],
      "source": [
        "import plotly.io as pio\n",
        "\n",
        "# Sort by frequency and take the top 100 rows\n",
        "AdQuest_Train_agg_DF_head = AdQuest_Train_agg_DF.sort_values('frequency', ascending=False).head(10000)\n",
        "\n",
        "# Generate sunburst plot using the aggregated frequency of the top 100 rows\n",
        "fig = px.sunburst(\n",
        "    AdQuest_Train_agg_DF_head,\n",
        "    path=['grandparent', 'parent', 'word'],\n",
        "    values='frequency',\n",
        "    title=\"Sunburst Plot of Word Triplets in Questions\"\n",
        ")\n",
        "fig.update_layout(width=800, height=800,\n",
        "                  paper_bgcolor='rgba(0,0,0,0)',plot_bgcolor='rgba(0,0,0,0)')\n",
        "\n",
        "# Save the figure as a PNG file\n",
        "file_path = \"AdQuest_Train_Word_Distribution.png\"  # You can specify a different path or filename\n",
        "pio.write_image(fig, file_path)\n",
        "\n",
        "fig.show()"
      ]
    },
    {
      "cell_type": "code",
      "execution_count": null,
      "metadata": {
        "id": "62vfNqbBgs3T"
      },
      "outputs": [],
      "source": [
        "# Load the AdQuest dataset\n",
        "plot_ngram_distribution(AdQuest, \"AdQuest_Train_N_Gram.png\", \"goldenrod\")"
      ]
    },
    {
      "cell_type": "code",
      "execution_count": null,
      "metadata": {
        "id": "Jpg8R_bGWTlm"
      },
      "outputs": [],
      "source": [
        "import plotly.express as px\n",
        "import pandas as pd\n",
        "import plotly.io as pio\n",
        "\n",
        "def plot_combined_grandparent_percentage_bar_graph(dfs, dataset_names, file_path_words):\n",
        "    if len(dfs) != len(dataset_names):\n",
        "        raise ValueError(\"The number of datasets and dataset names must be the same\")\n",
        "\n",
        "    combined_df = pd.DataFrame()\n",
        "\n",
        "    for df, name in zip(dfs, dataset_names):\n",
        "        # Convert 'grandparent' to lowercase for case-insensitive aggregation\n",
        "        df['grandparent'] = df['grandparent'].str.lower()\n",
        "\n",
        "        # Aggregate frequencies by grandparent\n",
        "        grandparent_freq = df.groupby('grandparent')['frequency'].sum().reset_index()\n",
        "        total_freq = grandparent_freq['frequency'].sum()  # Total frequency in this dataset\n",
        "        grandparent_freq['percentage'] = (grandparent_freq['frequency'] / total_freq) * 100\n",
        "        grandparent_freq = grandparent_freq.sort_values('percentage', ascending=False).head(10)\n",
        "        grandparent_freq['dataset'] = name  # Add dataset name as a column\n",
        "        combined_df = pd.concat([combined_df, grandparent_freq])\n",
        "\n",
        "    # Create the bar graph\n",
        "    fig = px.bar(combined_df, x='grandparent', y='percentage', color='dataset',\n",
        "                 barmode='group', title='Top 10 Grandparent Word Percentages Across Datasets')\n",
        "\n",
        "    pio.write_image(fig, file_path_words)\n",
        "    fig.show()\n",
        "\n",
        "plot_combined_grandparent_percentage_bar_graph(\n",
        "    [SQuAD_training_agg_DF_head, AQA_Train_agg_DF, AdQuest_Train_agg_DF],\n",
        "    [\"SQuAD\", \"AQA\", \"AdQuest\"], \"Question_Words_Datasets.png\"\n",
        ")"
      ]
    },
    {
      "cell_type": "code",
      "execution_count": null,
      "metadata": {
        "id": "hVUIjRQ3bgGF"
      },
      "outputs": [],
      "source": []
    },
    {
      "cell_type": "code",
      "execution_count": null,
      "metadata": {
        "id": "QTUyUKZBaKv3"
      },
      "outputs": [],
      "source": [
        "import plotly.express as px\n",
        "import pandas as pd\n",
        "import plotly.io as pio\n",
        "\n",
        "def plot_combined_grandparent_percentage_bar_graph(dfs, dataset_names, file_path_words):\n",
        "    if len(dfs) != len(dataset_names):\n",
        "        raise ValueError(\"The number of datasets and dataset names must be the same\")\n",
        "\n",
        "    combined_df = pd.DataFrame()\n",
        "    # List of question words to include in the specified order\n",
        "    question_words = [\"what\", \"when\", \"how\", \"in\", \"who\", \"where\", \"why\", \"which\", \"other\"]\n",
        "\n",
        "    for df, name in zip(dfs, dataset_names):\n",
        "        # Convert 'grandparent' to lowercase for case-insensitive aggregation\n",
        "        df['grandparent'] = df['grandparent'].str.lower()\n",
        "\n",
        "        # Categorize all other words as 'other'\n",
        "        df['grandparent'] = df['grandparent'].apply(lambda x: x if x in question_words[:-1] else 'other')\n",
        "\n",
        "        # Aggregate frequencies by grandparent\n",
        "        grandparent_freq = df.groupby('grandparent')['frequency'].sum().reset_index()\n",
        "        total_freq = grandparent_freq['frequency'].sum()  # Total frequency in this dataset\n",
        "        grandparent_freq['percentage'] = (grandparent_freq['frequency'] / total_freq) * 100\n",
        "        grandparent_freq['dataset'] = name  # Add dataset name as a column\n",
        "        combined_df = pd.concat([combined_df, grandparent_freq])\n",
        "\n",
        "    # Define color map for datasets\n",
        "    color_map = {\n",
        "        \"SQuAD\": \"dodgerblue\",\n",
        "        \"AQA\": \"firebrick\",\n",
        "        \"AdversarialQA\": \"darkgreen\",\n",
        "        \"AdQuest\": \"goldenrod\"\n",
        "    }\n",
        "\n",
        "    # Set the order of categories for the x-axis\n",
        "    fig = px.bar(combined_df, x='grandparent', y='percentage', color='dataset',\n",
        "                 barmode='group', title='Grandparent Word Percentages Across Datasets',\n",
        "                 category_orders={\"grandparent\": question_words},\n",
        "                 color_discrete_map=color_map)\n",
        "\n",
        "    # Update layout for larger, bold labels and ticks\n",
        "    fig.update_layout(xaxis=dict(showgrid=False, title_font=dict(size=48, color='black', family=\"Arial, bold\"),\n",
        "                                 tickfont=dict(size=36, color='black', family=\"Arial\")),\n",
        "                      yaxis=dict(showgrid=False, title_font=dict(size=48, color='black', family=\"Arial, bold\"),\n",
        "                                 tickfont=dict(size=36, color='black', family=\"Arial\")),\n",
        "                      font=dict(size=28, color=\"black\", family=\"Arial, bold\"),\n",
        "                      paper_bgcolor='rgba(0,0,0,0)',\n",
        "                      plot_bgcolor='rgba(0,0,0,0)')\n",
        "    pio.write_image(fig, file_path_words, width=1920, height=1080)\n",
        "    fig.show()\n",
        "\n",
        "# Example usage (replace with your actual DataFrames)\n",
        "plot_combined_grandparent_percentage_bar_graph(\n",
        "    [SQuAD_training_agg_DF_head, AQA_Train_agg_DF],\n",
        "    [\"SQuAD\", \"AQA\"], \"Question_Words_Datasets_2.png\"\n",
        ")\n"
      ]
    },
    {
      "cell_type": "code",
      "source": [
        "import plotly.graph_objects as go\n",
        "\n",
        "# Data\n",
        "question_types = [\"Explicit\", \"Paraphrasing\", \"Multi-hop\", \"Negation\", \"Temporal\", \"Spatial\", \"Implicit\"]\n",
        "SQuAD_Qs = [57, 16.4, 2.4, 0, 0.5, 0, 10]\n",
        "AQA_Qs = [5.7, 27, 18, 1.8, 8, 3, 13.4]\n",
        "\n",
        "# Creating two bar graphs\n",
        "fig = go.Figure()\n",
        "\n",
        "# Adding SQuAD data\n",
        "fig.add_trace(go.Bar(\n",
        "    x=question_types,\n",
        "    y=SQuAD_Qs,\n",
        "    name='SQuAD',\n",
        "    marker_color='dodgerblue'\n",
        "))\n",
        "\n",
        "# Adding AQA data\n",
        "fig.add_trace(go.Bar(\n",
        "    x=question_types,\n",
        "    y=AQA_Qs,\n",
        "    name='AQA',\n",
        "    marker_color='firebrick'\n",
        "))\n",
        "\n",
        "# Updating layout\n",
        "fig.update_layout(\n",
        "    title='Comparison of Question Types in SQuAD and AQA Datasets',\n",
        "    xaxis=dict(\n",
        "        showgrid=False,\n",
        "        title='Question Types',\n",
        "        titlefont=dict(size=48, color='black', family=\"Arial, bold\"),\n",
        "        tickfont=dict(size=36, color='black', family=\"Arial, bold\"),\n",
        "        tickmode='array',\n",
        "        tickvals=question_types,\n",
        "        ticktext=question_types,\n",
        "        tickangle=0\n",
        "    ),\n",
        "    yaxis=dict(\n",
        "        showgrid=False,\n",
        "        title='Percentage (%)',\n",
        "        titlefont=dict(size=48, color='black', family=\"Arial, bold\"),\n",
        "        tickfont=dict(size=36, color='black', family=\"Arial, bold\")\n",
        "    ),\n",
        "    legend=dict(\n",
        "        x=0.8,\n",
        "        y=1.0,\n",
        "        bgcolor='rgba(0, 0, 0, 0)',\n",
        "        bordercolor='rgba(0, 0, 0, 0)'\n",
        "    ),\n",
        "    barmode='group',\n",
        "    bargap=0.15, # gap between bars of adjacent location coordinates.\n",
        "    bargroupgap=0.1, # gap between bars of the same location coordinate.\n",
        "    plot_bgcolor='rgba(0,0,0,0)', # transparent background\n",
        ")\n",
        "\n",
        "pio.write_image(fig, \"question_type.png\",  width=1920, height=1080)\n",
        "fig.show()\n"
      ],
      "metadata": {
        "colab": {
          "base_uri": "https://localhost:8080/",
          "height": 542
        },
        "id": "zNCE_8uZuFA2",
        "outputId": "7f07e178-8c9b-4c02-bc65-2d55f139e2b5"
      },
      "execution_count": null,
      "outputs": [
        {
          "output_type": "display_data",
          "data": {
            "text/html": [
              "<html>\n",
              "<head><meta charset=\"utf-8\" /></head>\n",
              "<body>\n",
              "    <div>            <script src=\"https://cdnjs.cloudflare.com/ajax/libs/mathjax/2.7.5/MathJax.js?config=TeX-AMS-MML_SVG\"></script><script type=\"text/javascript\">if (window.MathJax && window.MathJax.Hub && window.MathJax.Hub.Config) {window.MathJax.Hub.Config({SVG: {font: \"STIX-Web\"}});}</script>                <script type=\"text/javascript\">window.PlotlyConfig = {MathJaxConfig: 'local'};</script>\n",
              "        <script charset=\"utf-8\" src=\"https://cdn.plot.ly/plotly-2.24.1.min.js\"></script>                <div id=\"881a669e-a261-48a6-9fac-a0835a822a0e\" class=\"plotly-graph-div\" style=\"height:525px; width:100%;\"></div>            <script type=\"text/javascript\">                                    window.PLOTLYENV=window.PLOTLYENV || {};                                    if (document.getElementById(\"881a669e-a261-48a6-9fac-a0835a822a0e\")) {                    Plotly.newPlot(                        \"881a669e-a261-48a6-9fac-a0835a822a0e\",                        [{\"marker\":{\"color\":\"dodgerblue\"},\"name\":\"SQuAD\",\"x\":[\"Explicit\",\"Paraphrasing\",\"Multi-hop\",\"Negation\",\"Temporal\",\"Spatial\",\"Implicit\"],\"y\":[57,16.4,2.4,0,0.5,0,10],\"type\":\"bar\"},{\"marker\":{\"color\":\"firebrick\"},\"name\":\"AQA\",\"x\":[\"Explicit\",\"Paraphrasing\",\"Multi-hop\",\"Negation\",\"Temporal\",\"Spatial\",\"Implicit\"],\"y\":[5.7,27,18,1.8,8,3,13.4],\"type\":\"bar\"}],                        {\"template\":{\"data\":{\"histogram2dcontour\":[{\"type\":\"histogram2dcontour\",\"colorbar\":{\"outlinewidth\":0,\"ticks\":\"\"},\"colorscale\":[[0.0,\"#0d0887\"],[0.1111111111111111,\"#46039f\"],[0.2222222222222222,\"#7201a8\"],[0.3333333333333333,\"#9c179e\"],[0.4444444444444444,\"#bd3786\"],[0.5555555555555556,\"#d8576b\"],[0.6666666666666666,\"#ed7953\"],[0.7777777777777778,\"#fb9f3a\"],[0.8888888888888888,\"#fdca26\"],[1.0,\"#f0f921\"]]}],\"choropleth\":[{\"type\":\"choropleth\",\"colorbar\":{\"outlinewidth\":0,\"ticks\":\"\"}}],\"histogram2d\":[{\"type\":\"histogram2d\",\"colorbar\":{\"outlinewidth\":0,\"ticks\":\"\"},\"colorscale\":[[0.0,\"#0d0887\"],[0.1111111111111111,\"#46039f\"],[0.2222222222222222,\"#7201a8\"],[0.3333333333333333,\"#9c179e\"],[0.4444444444444444,\"#bd3786\"],[0.5555555555555556,\"#d8576b\"],[0.6666666666666666,\"#ed7953\"],[0.7777777777777778,\"#fb9f3a\"],[0.8888888888888888,\"#fdca26\"],[1.0,\"#f0f921\"]]}],\"heatmap\":[{\"type\":\"heatmap\",\"colorbar\":{\"outlinewidth\":0,\"ticks\":\"\"},\"colorscale\":[[0.0,\"#0d0887\"],[0.1111111111111111,\"#46039f\"],[0.2222222222222222,\"#7201a8\"],[0.3333333333333333,\"#9c179e\"],[0.4444444444444444,\"#bd3786\"],[0.5555555555555556,\"#d8576b\"],[0.6666666666666666,\"#ed7953\"],[0.7777777777777778,\"#fb9f3a\"],[0.8888888888888888,\"#fdca26\"],[1.0,\"#f0f921\"]]}],\"heatmapgl\":[{\"type\":\"heatmapgl\",\"colorbar\":{\"outlinewidth\":0,\"ticks\":\"\"},\"colorscale\":[[0.0,\"#0d0887\"],[0.1111111111111111,\"#46039f\"],[0.2222222222222222,\"#7201a8\"],[0.3333333333333333,\"#9c179e\"],[0.4444444444444444,\"#bd3786\"],[0.5555555555555556,\"#d8576b\"],[0.6666666666666666,\"#ed7953\"],[0.7777777777777778,\"#fb9f3a\"],[0.8888888888888888,\"#fdca26\"],[1.0,\"#f0f921\"]]}],\"contourcarpet\":[{\"type\":\"contourcarpet\",\"colorbar\":{\"outlinewidth\":0,\"ticks\":\"\"}}],\"contour\":[{\"type\":\"contour\",\"colorbar\":{\"outlinewidth\":0,\"ticks\":\"\"},\"colorscale\":[[0.0,\"#0d0887\"],[0.1111111111111111,\"#46039f\"],[0.2222222222222222,\"#7201a8\"],[0.3333333333333333,\"#9c179e\"],[0.4444444444444444,\"#bd3786\"],[0.5555555555555556,\"#d8576b\"],[0.6666666666666666,\"#ed7953\"],[0.7777777777777778,\"#fb9f3a\"],[0.8888888888888888,\"#fdca26\"],[1.0,\"#f0f921\"]]}],\"surface\":[{\"type\":\"surface\",\"colorbar\":{\"outlinewidth\":0,\"ticks\":\"\"},\"colorscale\":[[0.0,\"#0d0887\"],[0.1111111111111111,\"#46039f\"],[0.2222222222222222,\"#7201a8\"],[0.3333333333333333,\"#9c179e\"],[0.4444444444444444,\"#bd3786\"],[0.5555555555555556,\"#d8576b\"],[0.6666666666666666,\"#ed7953\"],[0.7777777777777778,\"#fb9f3a\"],[0.8888888888888888,\"#fdca26\"],[1.0,\"#f0f921\"]]}],\"mesh3d\":[{\"type\":\"mesh3d\",\"colorbar\":{\"outlinewidth\":0,\"ticks\":\"\"}}],\"scatter\":[{\"fillpattern\":{\"fillmode\":\"overlay\",\"size\":10,\"solidity\":0.2},\"type\":\"scatter\"}],\"parcoords\":[{\"type\":\"parcoords\",\"line\":{\"colorbar\":{\"outlinewidth\":0,\"ticks\":\"\"}}}],\"scatterpolargl\":[{\"type\":\"scatterpolargl\",\"marker\":{\"colorbar\":{\"outlinewidth\":0,\"ticks\":\"\"}}}],\"bar\":[{\"error_x\":{\"color\":\"#2a3f5f\"},\"error_y\":{\"color\":\"#2a3f5f\"},\"marker\":{\"line\":{\"color\":\"#E5ECF6\",\"width\":0.5},\"pattern\":{\"fillmode\":\"overlay\",\"size\":10,\"solidity\":0.2}},\"type\":\"bar\"}],\"scattergeo\":[{\"type\":\"scattergeo\",\"marker\":{\"colorbar\":{\"outlinewidth\":0,\"ticks\":\"\"}}}],\"scatterpolar\":[{\"type\":\"scatterpolar\",\"marker\":{\"colorbar\":{\"outlinewidth\":0,\"ticks\":\"\"}}}],\"histogram\":[{\"marker\":{\"pattern\":{\"fillmode\":\"overlay\",\"size\":10,\"solidity\":0.2}},\"type\":\"histogram\"}],\"scattergl\":[{\"type\":\"scattergl\",\"marker\":{\"colorbar\":{\"outlinewidth\":0,\"ticks\":\"\"}}}],\"scatter3d\":[{\"type\":\"scatter3d\",\"line\":{\"colorbar\":{\"outlinewidth\":0,\"ticks\":\"\"}},\"marker\":{\"colorbar\":{\"outlinewidth\":0,\"ticks\":\"\"}}}],\"scattermapbox\":[{\"type\":\"scattermapbox\",\"marker\":{\"colorbar\":{\"outlinewidth\":0,\"ticks\":\"\"}}}],\"scatterternary\":[{\"type\":\"scatterternary\",\"marker\":{\"colorbar\":{\"outlinewidth\":0,\"ticks\":\"\"}}}],\"scattercarpet\":[{\"type\":\"scattercarpet\",\"marker\":{\"colorbar\":{\"outlinewidth\":0,\"ticks\":\"\"}}}],\"carpet\":[{\"aaxis\":{\"endlinecolor\":\"#2a3f5f\",\"gridcolor\":\"white\",\"linecolor\":\"white\",\"minorgridcolor\":\"white\",\"startlinecolor\":\"#2a3f5f\"},\"baxis\":{\"endlinecolor\":\"#2a3f5f\",\"gridcolor\":\"white\",\"linecolor\":\"white\",\"minorgridcolor\":\"white\",\"startlinecolor\":\"#2a3f5f\"},\"type\":\"carpet\"}],\"table\":[{\"cells\":{\"fill\":{\"color\":\"#EBF0F8\"},\"line\":{\"color\":\"white\"}},\"header\":{\"fill\":{\"color\":\"#C8D4E3\"},\"line\":{\"color\":\"white\"}},\"type\":\"table\"}],\"barpolar\":[{\"marker\":{\"line\":{\"color\":\"#E5ECF6\",\"width\":0.5},\"pattern\":{\"fillmode\":\"overlay\",\"size\":10,\"solidity\":0.2}},\"type\":\"barpolar\"}],\"pie\":[{\"automargin\":true,\"type\":\"pie\"}]},\"layout\":{\"autotypenumbers\":\"strict\",\"colorway\":[\"#636efa\",\"#EF553B\",\"#00cc96\",\"#ab63fa\",\"#FFA15A\",\"#19d3f3\",\"#FF6692\",\"#B6E880\",\"#FF97FF\",\"#FECB52\"],\"font\":{\"color\":\"#2a3f5f\"},\"hovermode\":\"closest\",\"hoverlabel\":{\"align\":\"left\"},\"paper_bgcolor\":\"white\",\"plot_bgcolor\":\"#E5ECF6\",\"polar\":{\"bgcolor\":\"#E5ECF6\",\"angularaxis\":{\"gridcolor\":\"white\",\"linecolor\":\"white\",\"ticks\":\"\"},\"radialaxis\":{\"gridcolor\":\"white\",\"linecolor\":\"white\",\"ticks\":\"\"}},\"ternary\":{\"bgcolor\":\"#E5ECF6\",\"aaxis\":{\"gridcolor\":\"white\",\"linecolor\":\"white\",\"ticks\":\"\"},\"baxis\":{\"gridcolor\":\"white\",\"linecolor\":\"white\",\"ticks\":\"\"},\"caxis\":{\"gridcolor\":\"white\",\"linecolor\":\"white\",\"ticks\":\"\"}},\"coloraxis\":{\"colorbar\":{\"outlinewidth\":0,\"ticks\":\"\"}},\"colorscale\":{\"sequential\":[[0.0,\"#0d0887\"],[0.1111111111111111,\"#46039f\"],[0.2222222222222222,\"#7201a8\"],[0.3333333333333333,\"#9c179e\"],[0.4444444444444444,\"#bd3786\"],[0.5555555555555556,\"#d8576b\"],[0.6666666666666666,\"#ed7953\"],[0.7777777777777778,\"#fb9f3a\"],[0.8888888888888888,\"#fdca26\"],[1.0,\"#f0f921\"]],\"sequentialminus\":[[0.0,\"#0d0887\"],[0.1111111111111111,\"#46039f\"],[0.2222222222222222,\"#7201a8\"],[0.3333333333333333,\"#9c179e\"],[0.4444444444444444,\"#bd3786\"],[0.5555555555555556,\"#d8576b\"],[0.6666666666666666,\"#ed7953\"],[0.7777777777777778,\"#fb9f3a\"],[0.8888888888888888,\"#fdca26\"],[1.0,\"#f0f921\"]],\"diverging\":[[0,\"#8e0152\"],[0.1,\"#c51b7d\"],[0.2,\"#de77ae\"],[0.3,\"#f1b6da\"],[0.4,\"#fde0ef\"],[0.5,\"#f7f7f7\"],[0.6,\"#e6f5d0\"],[0.7,\"#b8e186\"],[0.8,\"#7fbc41\"],[0.9,\"#4d9221\"],[1,\"#276419\"]]},\"xaxis\":{\"gridcolor\":\"white\",\"linecolor\":\"white\",\"ticks\":\"\",\"title\":{\"standoff\":15},\"zerolinecolor\":\"white\",\"automargin\":true,\"zerolinewidth\":2},\"yaxis\":{\"gridcolor\":\"white\",\"linecolor\":\"white\",\"ticks\":\"\",\"title\":{\"standoff\":15},\"zerolinecolor\":\"white\",\"automargin\":true,\"zerolinewidth\":2},\"scene\":{\"xaxis\":{\"backgroundcolor\":\"#E5ECF6\",\"gridcolor\":\"white\",\"linecolor\":\"white\",\"showbackground\":true,\"ticks\":\"\",\"zerolinecolor\":\"white\",\"gridwidth\":2},\"yaxis\":{\"backgroundcolor\":\"#E5ECF6\",\"gridcolor\":\"white\",\"linecolor\":\"white\",\"showbackground\":true,\"ticks\":\"\",\"zerolinecolor\":\"white\",\"gridwidth\":2},\"zaxis\":{\"backgroundcolor\":\"#E5ECF6\",\"gridcolor\":\"white\",\"linecolor\":\"white\",\"showbackground\":true,\"ticks\":\"\",\"zerolinecolor\":\"white\",\"gridwidth\":2}},\"shapedefaults\":{\"line\":{\"color\":\"#2a3f5f\"}},\"annotationdefaults\":{\"arrowcolor\":\"#2a3f5f\",\"arrowhead\":0,\"arrowwidth\":1},\"geo\":{\"bgcolor\":\"white\",\"landcolor\":\"#E5ECF6\",\"subunitcolor\":\"white\",\"showland\":true,\"showlakes\":true,\"lakecolor\":\"white\"},\"title\":{\"x\":0.05},\"mapbox\":{\"style\":\"light\"}}},\"xaxis\":{\"title\":{\"text\":\"Question Types\",\"font\":{\"size\":48,\"color\":\"black\",\"family\":\"Arial, bold\"}},\"tickfont\":{\"size\":36,\"color\":\"black\",\"family\":\"Arial, bold\"},\"showgrid\":false,\"tickmode\":\"array\",\"tickvals\":[\"Explicit\",\"Paraphrasing\",\"Multi-hop\",\"Negation\",\"Temporal\",\"Spatial\",\"Implicit\"],\"ticktext\":[\"Explicit\",\"Paraphrasing\",\"Multi-hop\",\"Negation\",\"Temporal\",\"Spatial\",\"Implicit\"],\"tickangle\":0},\"yaxis\":{\"title\":{\"text\":\"Percentage (%)\",\"font\":{\"size\":48,\"color\":\"black\",\"family\":\"Arial, bold\"}},\"tickfont\":{\"size\":36,\"color\":\"black\",\"family\":\"Arial, bold\"},\"showgrid\":false},\"legend\":{\"x\":0.8,\"y\":1.0,\"bgcolor\":\"rgba(0, 0, 0, 0)\",\"bordercolor\":\"rgba(0, 0, 0, 0)\"},\"title\":{\"text\":\"Comparison of Question Types in SQuAD and AQA Datasets\"},\"barmode\":\"group\",\"bargap\":0.15,\"bargroupgap\":0.1,\"plot_bgcolor\":\"rgba(0,0,0,0)\"},                        {\"responsive\": true}                    ).then(function(){\n",
              "                            \n",
              "var gd = document.getElementById('881a669e-a261-48a6-9fac-a0835a822a0e');\n",
              "var x = new MutationObserver(function (mutations, observer) {{\n",
              "        var display = window.getComputedStyle(gd).display;\n",
              "        if (!display || display === 'none') {{\n",
              "            console.log([gd, 'removed!']);\n",
              "            Plotly.purge(gd);\n",
              "            observer.disconnect();\n",
              "        }}\n",
              "}});\n",
              "\n",
              "// Listen for the removal of the full notebook cells\n",
              "var notebookContainer = gd.closest('#notebook-container');\n",
              "if (notebookContainer) {{\n",
              "    x.observe(notebookContainer, {childList: true});\n",
              "}}\n",
              "\n",
              "// Listen for the clearing of the current output cell\n",
              "var outputEl = gd.closest('.output');\n",
              "if (outputEl) {{\n",
              "    x.observe(outputEl, {childList: true});\n",
              "}}\n",
              "\n",
              "                        })                };                            </script>        </div>\n",
              "</body>\n",
              "</html>"
            ]
          },
          "metadata": {}
        }
      ]
    },
    {
      "cell_type": "code",
      "execution_count": null,
      "metadata": {
        "colab": {
          "base_uri": "https://localhost:8080/"
        },
        "id": "nN5ZFrIrg5Ih",
        "outputId": "af7ccc18-a2e8-4555-a3e3-f54f25ca919e"
      },
      "outputs": [
        {
          "name": "stdout",
          "output_type": "stream",
          "text": [
            "mkdir: cannot create directory ‘Data_Analysis’: File exists\n"
          ]
        }
      ],
      "source": [
        "!mkdir Data_Analysis\n",
        "!cp *.png ./Data_Analysis/\n",
        "!cp *.json ./Data_Analysis/"
      ]
    },
    {
      "cell_type": "code",
      "execution_count": null,
      "metadata": {
        "colab": {
          "base_uri": "https://localhost:8080/"
        },
        "id": "7tb4pSmnhWcz",
        "outputId": "5de3e4f3-8eff-42a7-bfa3-2dfe98dfbe4d"
      },
      "outputs": [
        {
          "name": "stdout",
          "output_type": "stream",
          "text": [
            "updating: Data_Analysis/ (stored 0%)\n",
            "updating: Data_Analysis/SQuAD_validation_N_Gram.png (deflated 13%)\n",
            "updating: Data_Analysis/SQuAD_Adversarial_Validation_Word_Distribution.png (deflated 1%)\n",
            "updating: Data_Analysis/SQuAD_Validation_Word_Distribution.png (deflated 2%)\n",
            "updating: Data_Analysis/AdQuest_Train_Word_Distribution.png (deflated 1%)\n",
            "updating: Data_Analysis/AQA_Train_N_Gram.png (deflated 15%)\n",
            "updating: Data_Analysis/dev_aqa.json (deflated 88%)\n",
            "updating: Data_Analysis/squad_validation.json (deflated 89%)\n",
            "updating: Data_Analysis/SQuAD_Train_N_Gram.png (deflated 13%)\n",
            "updating: Data_Analysis/SQuAD_Train_Word_Distribution.png (deflated 2%)\n",
            "updating: Data_Analysis/AQA_Validation_N_Gram.png (deflated 15%)\n",
            "updating: Data_Analysis/AdQuest_Train_N_Gram.png (deflated 14%)\n",
            "updating: Data_Analysis/train_aqa.json (deflated 90%)\n",
            "updating: Data_Analysis/AQA_Train_Word_Distribution.png (deflated 1%)\n",
            "updating: Data_Analysis/AQA_Validation_Word_Distribution.png (deflated 1%)\n",
            "updating: Data_Analysis/squad_train.json (deflated 89%)\n",
            "updating: Data_Analysis/Question_Words_Datasets.png (deflated 30%)\n",
            "updating: Data_Analysis/SQuAD_Adversarial_Validation_N_Gram.png (deflated 14%)\n",
            "  adding: Data_Analysis/AQA_Validation_Question_Lengths.png (deflated 15%)\n",
            "  adding: Data_Analysis/SQuAD_Validation_Question_Lengths.png (deflated 16%)\n",
            "  adding: Data_Analysis/Answer_Lengths.png (deflated 18%)\n",
            "  adding: Data_Analysis/AQA_Train_Question_Lengths.png (deflated 15%)\n",
            "  adding: Data_Analysis/AdQuest_Train_Question_Lengths.png (deflated 15%)\n",
            "  adding: Data_Analysis/AQA_Vlidation_Answer_Lengths.png (deflated 18%)\n",
            "  adding: Data_Analysis/Question_Lengths.png (deflated 16%)\n",
            "  adding: Data_Analysis/SQuAD_Adversarial_Vlaidation_Question_Lengths.png (deflated 15%)\n",
            "  adding: Data_Analysis/SQuAD_Validation_Answer_Lengths.png (deflated 18%)\n",
            "  adding: Data_Analysis/SQuAD_Train_Answer_Lengths.png (deflated 17%)\n",
            "  adding: Data_Analysis/AQA_Train_Answer_Lengths.png (deflated 16%)\n",
            "  adding: Data_Analysis/SQuAD_Adversarial_Vlaidation_Answer_Lengths.png (deflated 16%)\n",
            "  adding: Data_Analysis/SQuAD_Train_Question_Lengths.png (deflated 14%)\n",
            "  adding: Data_Analysis/AdQuest_Train_Answer_Lengths.png (deflated 16%)\n"
          ]
        }
      ],
      "source": [
        "!zip -r Data_Analysis_for_Dataset_Comparison_2.zip ./Data_Analysis"
      ]
    },
    {
      "cell_type": "code",
      "execution_count": null,
      "metadata": {
        "id": "7j0ZXOzPg5bN"
      },
      "outputs": [],
      "source": [
        "!cp Data_Analysis_for_Dataset_Comparison_2.zip /content/drive/MyDrive/NLP/"
      ]
    },
    {
      "cell_type": "code",
      "execution_count": null,
      "metadata": {
        "colab": {
          "base_uri": "https://localhost:8080/"
        },
        "id": "C-96BhadpUPV",
        "outputId": "ffd4bff9-aa0c-4737-d529-716222459faa"
      },
      "outputs": [
        {
          "output_type": "stream",
          "name": "stderr",
          "text": [
            "[nltk_data] Downloading package punkt to /root/nltk_data...\n",
            "[nltk_data]   Package punkt is already up-to-date!\n"
          ]
        }
      ],
      "source": [
        "from datasets import load_dataset\n",
        "import nltk\n",
        "from nltk.tokenize import word_tokenize\n",
        "import plotly.express as px\n",
        "import plotly.io as pio\n",
        "import numpy as np\n",
        "from collections import Counter\n",
        "\n",
        "nltk.download('punkt')\n",
        "\n",
        "def get_length_distribution(data, key):\n",
        "    if key == \"question\":\n",
        "        lengths = [len(word_tokenize(item[key])) for item in data]\n",
        "    else:\n",
        "        lengths = [len(word_tokenize(item[key]['text'][0])) for item in data]\n",
        "    return lengths\n",
        "\n",
        "def plot_histogram(data, title, x_label, file_path, bar_color, x_axis_limit):\n",
        "    counter = Counter(data)\n",
        "    total = sum(counter.values())\n",
        "    normalized_data = {length: count / total for length, count in counter.items()}\n",
        "\n",
        "    # Calculate mean and standard deviation\n",
        "    mean_length = np.mean(list(data))\n",
        "    std_length = np.std(list(data))\n",
        "\n",
        "    fig = px.bar(x=list(normalized_data.keys()), y=list(normalized_data.values()),\n",
        "                 labels={'x': x_label, 'y': 'Normalized Frequency'},\n",
        "                 title=title, color_discrete_sequence=[bar_color] if bar_color else None)\n",
        "\n",
        "    # Remove gridlines and update styles\n",
        "    fig.update_layout(xaxis=dict(showgrid=False, title_font=dict(size=24, color='black', family=\"Arial, bold\"),\n",
        "                                 tickfont=dict(size=18, color='black', family=\"Arial\")),\n",
        "                      yaxis=dict(showgrid=False, title_font=dict(size=24, color='black', family=\"Arial, bold\"),\n",
        "                                 tickfont=dict(size=18, color='black', family=\"Arial\")),\n",
        "                      font=dict(size=14, color=\"black\", family=\"Arial, bold\"),\n",
        "                      paper_bgcolor='rgba(0,0,0,0)',\n",
        "                      plot_bgcolor='rgba(0,0,0,0)')\n",
        "\n",
        "    fig.update_xaxes(range=[0, x_axis_limit])\n",
        "\n",
        "    # Add text for mean and standard deviation\n",
        "    fig.add_annotation(text=f\"μ={mean_length:.2f}, σ={std_length:.2f}\",\n",
        "                       xref=\"paper\", yref=\"paper\",\n",
        "                       x=0.95, y=0.95, showarrow=False, font=dict(size=24, color=\"black\", family=\"Arial, bold\"))\n",
        "\n",
        "    pio.write_image(fig, file_path)\n",
        "    fig.show()"
      ]
    },
    {
      "cell_type": "code",
      "execution_count": null,
      "metadata": {
        "id": "6rU5trNipbrx"
      },
      "outputs": [],
      "source": [
        "# Plot question length distribution\n",
        "question_lengths = get_length_distribution(datasets_squad['train'], 'question')\n",
        "plot_histogram(question_lengths, 'Question Length Distribution', 'Question Length', 'SQuAD_Train_Question_Lengths.png', 'dodgerblue', 30)\n",
        "\n",
        "# Plot answer length distribution\n",
        "answer_lengths = get_length_distribution(datasets_squad['train'], 'answers')  # Assuming 'answer' is the key for answers\n",
        "plot_histogram(answer_lengths, 'Answer Length Distribution', 'Answer Length', 'SQuAD_Train_Answer_Lengths.png', 'dodgerblue', 15)\n"
      ]
    },
    {
      "cell_type": "code",
      "execution_count": null,
      "metadata": {
        "id": "HxNXjckHpcZL"
      },
      "outputs": [],
      "source": [
        "# Plot question length distribution\n",
        "question_lengths = get_length_distribution(datasets_squad['validation'], 'question')\n",
        "plot_histogram(question_lengths, 'Question Length Distribution', 'Question Length', 'SQuAD_Validation_Question_Lengths.png', 'dodgerblue', 30)\n",
        "\n",
        "# Plot answer length distribution\n",
        "answer_lengths = get_length_distribution(datasets_squad['validation'], 'answers')  # Assuming 'answer' is the key for answers\n",
        "plot_histogram(answer_lengths, 'Answer Length Distribution', 'Answer Length', 'SQuAD_Validation_Answer_Lengths.png', 'dodgerblue', 15)\n"
      ]
    },
    {
      "cell_type": "code",
      "execution_count": null,
      "metadata": {
        "id": "HAeqF02gpc7j"
      },
      "outputs": [],
      "source": [
        "# Plot question length distribution\n",
        "question_lengths = get_length_distribution(dataset_aqa_combined['train'], 'question')\n",
        "plot_histogram(question_lengths, 'Question Length Distribution', 'Question Length', 'AQA_Train_Question_Lengths.png', 'firebrick', 30)\n",
        "\n",
        "# Plot answer length distribution\n",
        "answer_lengths = get_length_distribution(dataset_aqa_combined['train'], 'answers')  # Assuming 'answer' is the key for answers\n",
        "plot_histogram(answer_lengths, 'Answer Length Distribution', 'Answer Length', 'AQA_Train_Answer_Lengths.png', 'firebrick', 15)\n"
      ]
    },
    {
      "cell_type": "code",
      "execution_count": null,
      "metadata": {
        "id": "_WEO3ta0pdyB"
      },
      "outputs": [],
      "source": [
        "# Plot question length distribution\n",
        "question_lengths = get_length_distribution(dataset_aqa_combined['validation'], 'question')\n",
        "plot_histogram(question_lengths, 'Question Length Distribution', 'Question Length', 'AQA_Validation_Question_Lengths.png', 'firebrick', 30)\n",
        "\n",
        "# Plot answer length distribution\n",
        "answer_lengths = get_length_distribution(dataset_aqa_combined['validation'], 'answers')  # Assuming 'answer' is the key for answers\n",
        "plot_histogram(answer_lengths, 'Answer Length Distribution', 'Answer Length', 'AQA_Vlidation_Answer_Lengths.png', 'firebrick', 15)\n"
      ]
    },
    {
      "cell_type": "code",
      "execution_count": null,
      "metadata": {
        "id": "R6wBbEYrpehZ"
      },
      "outputs": [],
      "source": [
        "# Plot question length distribution\n",
        "question_lengths = get_length_distribution(datasets_squad_adversarial['validation'], 'question')\n",
        "plot_histogram(question_lengths, 'Question Length Distribution', 'Question Length', 'SQuAD_Adversarial_Vlaidation_Question_Lengths.png', 'darkgreen', 30)\n",
        "\n",
        "# Plot answer length distribution\n",
        "answer_lengths = get_length_distribution(datasets_squad_adversarial['validation'], 'answers')  # Assuming 'answer' is the key for answers\n",
        "plot_histogram(answer_lengths, 'Answer Length Distribution', 'Answer Length', 'SQuAD_Adversarial_Vlaidation_Answer_Lengths.png', 'darkgreen', 15)\n"
      ]
    },
    {
      "cell_type": "code",
      "execution_count": null,
      "metadata": {
        "id": "jo9sWgxpvsQk"
      },
      "outputs": [],
      "source": [
        "# Plot question length distribution\n",
        "question_lengths = get_length_distribution(AdQuest, 'question')\n",
        "plot_histogram(question_lengths, 'Question Length Distribution', 'Question Length', 'AdQuest_Train_Question_Lengths.png', 'goldenrod', 30)\n",
        "\n",
        "# Plot answer length distribution\n",
        "answer_lengths = get_length_distribution(AdQuest, 'answers')  # Assuming 'answer' is the key for answers\n",
        "plot_histogram(answer_lengths, 'Answer Length Distribution', 'Answer Length', 'AdQuest_Train_Answer_Lengths.png', 'goldenrod', 15)\n"
      ]
    },
    {
      "cell_type": "code",
      "execution_count": null,
      "metadata": {
        "id": "AuYyrDMQsli9"
      },
      "outputs": [],
      "source": [
        "import json\n",
        "\n",
        "def remove_metadata_from_json(file_path):\n",
        "    \"\"\"\n",
        "    Removes the 'metadata' dictionary from each JSON object in a file where each line is a separate JSON object.\n",
        "    Saves the modified content to a new file.\n",
        "\n",
        "    :param file_path: Path to the JSON file.\n",
        "    \"\"\"\n",
        "    modified_data = []\n",
        "\n",
        "    # Read the file line by line\n",
        "    with open(file_path, 'r') as file:\n",
        "        for line in file:\n",
        "            entry = json.loads(line)\n",
        "            if 'metadata' in entry:\n",
        "                del entry['metadata']\n",
        "            modified_data.append(entry)\n",
        "\n",
        "    # Save the modified data to a new file\n",
        "    modified_file_path = file_path.replace('.json', '_modified.json')\n",
        "    with open(modified_file_path, 'w') as file:\n",
        "        for entry in modified_data:\n",
        "            json.dump(entry, file)\n",
        "            file.write('\\n')  # Write each JSON object on a new line\n",
        "\n",
        "    return modified_file_path"
      ]
    },
    {
      "cell_type": "code",
      "execution_count": null,
      "metadata": {
        "id": "i3V_6v_K6AZG"
      },
      "outputs": [],
      "source": [
        "!python3 run.py --do_train --task qa --dataset squad_v2_train.json --output_dir ./trained_model/ --model mrm8488/electra-small-finetuned-squadv2"
      ]
    },
    {
      "cell_type": "markdown",
      "metadata": {
        "id": "UXo5EtvD9cLU"
      },
      "source": [
        "In the next step, the model will be evaluated using the SQuAD 2.0 validation dataset. Since the model is already fine-tuned on SQuAD data, this should generate similar EM an F1 benchmarks.  "
      ]
    },
    {
      "cell_type": "code",
      "execution_count": null,
      "metadata": {
        "id": "EEs677YHD5zw"
      },
      "outputs": [],
      "source": [
        "from datasets import load_dataset\n",
        "dataset_synQA = load_dataset(\"mbartolo/synQA\")\n",
        "\n",
        "# Save the 'train' split to JSON\n",
        "dataset_synQA[\"train\"].to_json('dataset_synQA_train.json')\n",
        "dataset_synQA.shape"
      ]
    },
    {
      "cell_type": "code",
      "execution_count": null,
      "metadata": {
        "colab": {
          "base_uri": "https://localhost:8080/"
        },
        "id": "BxMD8DL1viGx",
        "outputId": "60f3383a-af81-4955-9662-93564c0db418"
      },
      "outputs": [
        {
          "name": "stderr",
          "output_type": "stream",
          "text": [
            "[nltk_data] Downloading package punkt to /root/nltk_data...\n",
            "[nltk_data]   Package punkt is already up-to-date!\n"
          ]
        },
        {
          "data": {
            "text/plain": [
              "True"
            ]
          },
          "execution_count": 12,
          "metadata": {},
          "output_type": "execute_result"
        }
      ],
      "source": [
        "import pandas as pd\n",
        "import matplotlib.pyplot as plt\n",
        "import plotly.express as px\n",
        "from collections import Counter\n",
        "import nltk\n",
        "from nltk.tokenize import word_tokenize\n",
        "import json\n",
        "nltk.download('punkt')"
      ]
    },
    {
      "cell_type": "code",
      "execution_count": null,
      "metadata": {
        "colab": {
          "base_uri": "https://localhost:8080/"
        },
        "id": "lbBkXD5JsD0o",
        "outputId": "3b49bd7e-0c76-40b5-8163-2f419d8aed37"
      },
      "outputs": [
        {
          "name": "stdout",
          "output_type": "stream",
          "text": [
            "Collecting jsonlines\n",
            "  Downloading jsonlines-4.0.0-py3-none-any.whl.metadata (1.6 kB)\n",
            "Requirement already satisfied: attrs>=19.2.0 in /usr/local/lib/python3.10/dist-packages (from jsonlines) (23.1.0)\n",
            "Downloading jsonlines-4.0.0-py3-none-any.whl (8.7 kB)\n",
            "Installing collected packages: jsonlines\n",
            "Successfully installed jsonlines-4.0.0\n",
            "\u001b[33mWARNING: Running pip as the 'root' user can result in broken permissions and conflicting behaviour with the system package manager. It is recommended to use a virtual environment instead: https://pip.pypa.io/warnings/venv\u001b[0m\u001b[33m\n",
            "\u001b[0m"
          ]
        }
      ],
      "source": [
        "pip install jsonlines"
      ]
    },
    {
      "cell_type": "code",
      "execution_count": null,
      "metadata": {
        "id": "nbl6PKkdpgu0"
      },
      "outputs": [],
      "source": [
        "import json\n",
        "import jsonlines\n",
        "\n",
        "# Load data from the passages .jsonl file\n",
        "with jsonlines.open('passages.jsonl') as reader:\n",
        "    passages = {item['id']: item for item in reader}\n",
        "\n",
        "# Load data from the question-answer .jsonl file and filter questions starting with \"How many\"\n",
        "filtered_data = []\n",
        "with jsonlines.open('generated_training_data.jsonl') as reader:\n",
        "    for item in reader:\n",
        "        if item['question'].lower().startswith(\"where\"):\n",
        "            passage_id = item['passage_id']\n",
        "            if passage_id in passages:\n",
        "                new_entry = {\n",
        "                    \"id\": item['question_id'],\n",
        "                    \"title\": passage_id,\n",
        "                    \"context\": passages[passage_id][\"context\"],\n",
        "                    \"question\": item['question'],\n",
        "                    \"answers\": {\n",
        "                        \"text\": [item[\"answer\"]],\n",
        "                        \"answer_start\": [item[\"metadata\"][\"answer_start\"]]\n",
        "                    }\n",
        "                }\n",
        "                filtered_data.append(new_entry)\n",
        "\n",
        "# Write filtered data to a new JSON file\n",
        "with open('filtered_questions_where.json', 'w') as outfile:\n",
        "    json.dump(filtered_data, outfile, indent=4)\n"
      ]
    },
    {
      "cell_type": "code",
      "execution_count": null,
      "metadata": {
        "id": "bDw68en7xQfG"
      },
      "outputs": [],
      "source": []
    }
  ],
  "metadata": {
    "colab": {
      "machine_shape": "hm",
      "provenance": []
    },
    "kernelspec": {
      "display_name": "Python 3",
      "name": "python3"
    },
    "language_info": {
      "name": "python"
    },
    "widgets": {
      "application/vnd.jupyter.widget-state+json": {
        "78074460be144fa8bfc8907ade3cf9c5": {
          "model_module": "@jupyter-widgets/controls",
          "model_name": "HBoxModel",
          "model_module_version": "1.5.0",
          "state": {
            "_dom_classes": [],
            "_model_module": "@jupyter-widgets/controls",
            "_model_module_version": "1.5.0",
            "_model_name": "HBoxModel",
            "_view_count": null,
            "_view_module": "@jupyter-widgets/controls",
            "_view_module_version": "1.5.0",
            "_view_name": "HBoxView",
            "box_style": "",
            "children": [
              "IPY_MODEL_67432e3bc0f748809fe3b0346a64a0e8",
              "IPY_MODEL_fc04f766bfb1433780f8b4ab655de885",
              "IPY_MODEL_8ebed4f52e09459c9bbd01e338bb6a27"
            ],
            "layout": "IPY_MODEL_0da99f4d0b8c496e8f5c08be5ad62148"
          }
        },
        "67432e3bc0f748809fe3b0346a64a0e8": {
          "model_module": "@jupyter-widgets/controls",
          "model_name": "HTMLModel",
          "model_module_version": "1.5.0",
          "state": {
            "_dom_classes": [],
            "_model_module": "@jupyter-widgets/controls",
            "_model_module_version": "1.5.0",
            "_model_name": "HTMLModel",
            "_view_count": null,
            "_view_module": "@jupyter-widgets/controls",
            "_view_module_version": "1.5.0",
            "_view_name": "HTMLView",
            "description": "",
            "description_tooltip": null,
            "layout": "IPY_MODEL_437a30ea49c04ba685494b33713c1515",
            "placeholder": "​",
            "style": "IPY_MODEL_7abbc70ec86343b5880663a4a2255bac",
            "value": "Creating json from Arrow format: 100%"
          }
        },
        "fc04f766bfb1433780f8b4ab655de885": {
          "model_module": "@jupyter-widgets/controls",
          "model_name": "FloatProgressModel",
          "model_module_version": "1.5.0",
          "state": {
            "_dom_classes": [],
            "_model_module": "@jupyter-widgets/controls",
            "_model_module_version": "1.5.0",
            "_model_name": "FloatProgressModel",
            "_view_count": null,
            "_view_module": "@jupyter-widgets/controls",
            "_view_module_version": "1.5.0",
            "_view_name": "ProgressView",
            "bar_style": "success",
            "description": "",
            "description_tooltip": null,
            "layout": "IPY_MODEL_105267f6c06c47c0a6db28c63079dfe2",
            "max": 88,
            "min": 0,
            "orientation": "horizontal",
            "style": "IPY_MODEL_01a15f7f01674c5fb6f9c35acc060f6a",
            "value": 88
          }
        },
        "8ebed4f52e09459c9bbd01e338bb6a27": {
          "model_module": "@jupyter-widgets/controls",
          "model_name": "HTMLModel",
          "model_module_version": "1.5.0",
          "state": {
            "_dom_classes": [],
            "_model_module": "@jupyter-widgets/controls",
            "_model_module_version": "1.5.0",
            "_model_name": "HTMLModel",
            "_view_count": null,
            "_view_module": "@jupyter-widgets/controls",
            "_view_module_version": "1.5.0",
            "_view_name": "HTMLView",
            "description": "",
            "description_tooltip": null,
            "layout": "IPY_MODEL_b951f39d49b2409f881e82769068a0d2",
            "placeholder": "​",
            "style": "IPY_MODEL_4d6a48c62eee4a9b964acfa5119c80c2",
            "value": " 88/88 [00:01&lt;00:00, 66.74ba/s]"
          }
        },
        "0da99f4d0b8c496e8f5c08be5ad62148": {
          "model_module": "@jupyter-widgets/base",
          "model_name": "LayoutModel",
          "model_module_version": "1.2.0",
          "state": {
            "_model_module": "@jupyter-widgets/base",
            "_model_module_version": "1.2.0",
            "_model_name": "LayoutModel",
            "_view_count": null,
            "_view_module": "@jupyter-widgets/base",
            "_view_module_version": "1.2.0",
            "_view_name": "LayoutView",
            "align_content": null,
            "align_items": null,
            "align_self": null,
            "border": null,
            "bottom": null,
            "display": null,
            "flex": null,
            "flex_flow": null,
            "grid_area": null,
            "grid_auto_columns": null,
            "grid_auto_flow": null,
            "grid_auto_rows": null,
            "grid_column": null,
            "grid_gap": null,
            "grid_row": null,
            "grid_template_areas": null,
            "grid_template_columns": null,
            "grid_template_rows": null,
            "height": null,
            "justify_content": null,
            "justify_items": null,
            "left": null,
            "margin": null,
            "max_height": null,
            "max_width": null,
            "min_height": null,
            "min_width": null,
            "object_fit": null,
            "object_position": null,
            "order": null,
            "overflow": null,
            "overflow_x": null,
            "overflow_y": null,
            "padding": null,
            "right": null,
            "top": null,
            "visibility": null,
            "width": null
          }
        },
        "437a30ea49c04ba685494b33713c1515": {
          "model_module": "@jupyter-widgets/base",
          "model_name": "LayoutModel",
          "model_module_version": "1.2.0",
          "state": {
            "_model_module": "@jupyter-widgets/base",
            "_model_module_version": "1.2.0",
            "_model_name": "LayoutModel",
            "_view_count": null,
            "_view_module": "@jupyter-widgets/base",
            "_view_module_version": "1.2.0",
            "_view_name": "LayoutView",
            "align_content": null,
            "align_items": null,
            "align_self": null,
            "border": null,
            "bottom": null,
            "display": null,
            "flex": null,
            "flex_flow": null,
            "grid_area": null,
            "grid_auto_columns": null,
            "grid_auto_flow": null,
            "grid_auto_rows": null,
            "grid_column": null,
            "grid_gap": null,
            "grid_row": null,
            "grid_template_areas": null,
            "grid_template_columns": null,
            "grid_template_rows": null,
            "height": null,
            "justify_content": null,
            "justify_items": null,
            "left": null,
            "margin": null,
            "max_height": null,
            "max_width": null,
            "min_height": null,
            "min_width": null,
            "object_fit": null,
            "object_position": null,
            "order": null,
            "overflow": null,
            "overflow_x": null,
            "overflow_y": null,
            "padding": null,
            "right": null,
            "top": null,
            "visibility": null,
            "width": null
          }
        },
        "7abbc70ec86343b5880663a4a2255bac": {
          "model_module": "@jupyter-widgets/controls",
          "model_name": "DescriptionStyleModel",
          "model_module_version": "1.5.0",
          "state": {
            "_model_module": "@jupyter-widgets/controls",
            "_model_module_version": "1.5.0",
            "_model_name": "DescriptionStyleModel",
            "_view_count": null,
            "_view_module": "@jupyter-widgets/base",
            "_view_module_version": "1.2.0",
            "_view_name": "StyleView",
            "description_width": ""
          }
        },
        "105267f6c06c47c0a6db28c63079dfe2": {
          "model_module": "@jupyter-widgets/base",
          "model_name": "LayoutModel",
          "model_module_version": "1.2.0",
          "state": {
            "_model_module": "@jupyter-widgets/base",
            "_model_module_version": "1.2.0",
            "_model_name": "LayoutModel",
            "_view_count": null,
            "_view_module": "@jupyter-widgets/base",
            "_view_module_version": "1.2.0",
            "_view_name": "LayoutView",
            "align_content": null,
            "align_items": null,
            "align_self": null,
            "border": null,
            "bottom": null,
            "display": null,
            "flex": null,
            "flex_flow": null,
            "grid_area": null,
            "grid_auto_columns": null,
            "grid_auto_flow": null,
            "grid_auto_rows": null,
            "grid_column": null,
            "grid_gap": null,
            "grid_row": null,
            "grid_template_areas": null,
            "grid_template_columns": null,
            "grid_template_rows": null,
            "height": null,
            "justify_content": null,
            "justify_items": null,
            "left": null,
            "margin": null,
            "max_height": null,
            "max_width": null,
            "min_height": null,
            "min_width": null,
            "object_fit": null,
            "object_position": null,
            "order": null,
            "overflow": null,
            "overflow_x": null,
            "overflow_y": null,
            "padding": null,
            "right": null,
            "top": null,
            "visibility": null,
            "width": null
          }
        },
        "01a15f7f01674c5fb6f9c35acc060f6a": {
          "model_module": "@jupyter-widgets/controls",
          "model_name": "ProgressStyleModel",
          "model_module_version": "1.5.0",
          "state": {
            "_model_module": "@jupyter-widgets/controls",
            "_model_module_version": "1.5.0",
            "_model_name": "ProgressStyleModel",
            "_view_count": null,
            "_view_module": "@jupyter-widgets/base",
            "_view_module_version": "1.2.0",
            "_view_name": "StyleView",
            "bar_color": null,
            "description_width": ""
          }
        },
        "b951f39d49b2409f881e82769068a0d2": {
          "model_module": "@jupyter-widgets/base",
          "model_name": "LayoutModel",
          "model_module_version": "1.2.0",
          "state": {
            "_model_module": "@jupyter-widgets/base",
            "_model_module_version": "1.2.0",
            "_model_name": "LayoutModel",
            "_view_count": null,
            "_view_module": "@jupyter-widgets/base",
            "_view_module_version": "1.2.0",
            "_view_name": "LayoutView",
            "align_content": null,
            "align_items": null,
            "align_self": null,
            "border": null,
            "bottom": null,
            "display": null,
            "flex": null,
            "flex_flow": null,
            "grid_area": null,
            "grid_auto_columns": null,
            "grid_auto_flow": null,
            "grid_auto_rows": null,
            "grid_column": null,
            "grid_gap": null,
            "grid_row": null,
            "grid_template_areas": null,
            "grid_template_columns": null,
            "grid_template_rows": null,
            "height": null,
            "justify_content": null,
            "justify_items": null,
            "left": null,
            "margin": null,
            "max_height": null,
            "max_width": null,
            "min_height": null,
            "min_width": null,
            "object_fit": null,
            "object_position": null,
            "order": null,
            "overflow": null,
            "overflow_x": null,
            "overflow_y": null,
            "padding": null,
            "right": null,
            "top": null,
            "visibility": null,
            "width": null
          }
        },
        "4d6a48c62eee4a9b964acfa5119c80c2": {
          "model_module": "@jupyter-widgets/controls",
          "model_name": "DescriptionStyleModel",
          "model_module_version": "1.5.0",
          "state": {
            "_model_module": "@jupyter-widgets/controls",
            "_model_module_version": "1.5.0",
            "_model_name": "DescriptionStyleModel",
            "_view_count": null,
            "_view_module": "@jupyter-widgets/base",
            "_view_module_version": "1.2.0",
            "_view_name": "StyleView",
            "description_width": ""
          }
        },
        "8f94b95240f245bc8966b38be6d541a6": {
          "model_module": "@jupyter-widgets/controls",
          "model_name": "HBoxModel",
          "model_module_version": "1.5.0",
          "state": {
            "_dom_classes": [],
            "_model_module": "@jupyter-widgets/controls",
            "_model_module_version": "1.5.0",
            "_model_name": "HBoxModel",
            "_view_count": null,
            "_view_module": "@jupyter-widgets/controls",
            "_view_module_version": "1.5.0",
            "_view_name": "HBoxView",
            "box_style": "",
            "children": [
              "IPY_MODEL_b0eda4f121364e1389f3634b2f2dabd9",
              "IPY_MODEL_34accff0cabf4a92bd05dd1746a6d8ad",
              "IPY_MODEL_40327e73ee574a6cab467ed393538058"
            ],
            "layout": "IPY_MODEL_86b1129961084e149e2275f858a4b0ff"
          }
        },
        "b0eda4f121364e1389f3634b2f2dabd9": {
          "model_module": "@jupyter-widgets/controls",
          "model_name": "HTMLModel",
          "model_module_version": "1.5.0",
          "state": {
            "_dom_classes": [],
            "_model_module": "@jupyter-widgets/controls",
            "_model_module_version": "1.5.0",
            "_model_name": "HTMLModel",
            "_view_count": null,
            "_view_module": "@jupyter-widgets/controls",
            "_view_module_version": "1.5.0",
            "_view_name": "HTMLView",
            "description": "",
            "description_tooltip": null,
            "layout": "IPY_MODEL_c1741b6c372745249406d2c7507784ca",
            "placeholder": "​",
            "style": "IPY_MODEL_4ee5b294878f4fd9a0b7e8af03d8ea07",
            "value": "Creating json from Arrow format: 100%"
          }
        },
        "34accff0cabf4a92bd05dd1746a6d8ad": {
          "model_module": "@jupyter-widgets/controls",
          "model_name": "FloatProgressModel",
          "model_module_version": "1.5.0",
          "state": {
            "_dom_classes": [],
            "_model_module": "@jupyter-widgets/controls",
            "_model_module_version": "1.5.0",
            "_model_name": "FloatProgressModel",
            "_view_count": null,
            "_view_module": "@jupyter-widgets/controls",
            "_view_module_version": "1.5.0",
            "_view_name": "ProgressView",
            "bar_style": "success",
            "description": "",
            "description_tooltip": null,
            "layout": "IPY_MODEL_fe9892e6a75f474bad5a673274c2b8b7",
            "max": 11,
            "min": 0,
            "orientation": "horizontal",
            "style": "IPY_MODEL_a8687a65b8114c9bb2aa2070498d79a5",
            "value": 11
          }
        },
        "40327e73ee574a6cab467ed393538058": {
          "model_module": "@jupyter-widgets/controls",
          "model_name": "HTMLModel",
          "model_module_version": "1.5.0",
          "state": {
            "_dom_classes": [],
            "_model_module": "@jupyter-widgets/controls",
            "_model_module_version": "1.5.0",
            "_model_name": "HTMLModel",
            "_view_count": null,
            "_view_module": "@jupyter-widgets/controls",
            "_view_module_version": "1.5.0",
            "_view_name": "HTMLView",
            "description": "",
            "description_tooltip": null,
            "layout": "IPY_MODEL_c63b21f22f6f45e1accb42a45c73ceb7",
            "placeholder": "​",
            "style": "IPY_MODEL_b05095fc66a7434b8be0b07a3aaa58d3",
            "value": " 11/11 [00:00&lt;00:00, 51.70ba/s]"
          }
        },
        "86b1129961084e149e2275f858a4b0ff": {
          "model_module": "@jupyter-widgets/base",
          "model_name": "LayoutModel",
          "model_module_version": "1.2.0",
          "state": {
            "_model_module": "@jupyter-widgets/base",
            "_model_module_version": "1.2.0",
            "_model_name": "LayoutModel",
            "_view_count": null,
            "_view_module": "@jupyter-widgets/base",
            "_view_module_version": "1.2.0",
            "_view_name": "LayoutView",
            "align_content": null,
            "align_items": null,
            "align_self": null,
            "border": null,
            "bottom": null,
            "display": null,
            "flex": null,
            "flex_flow": null,
            "grid_area": null,
            "grid_auto_columns": null,
            "grid_auto_flow": null,
            "grid_auto_rows": null,
            "grid_column": null,
            "grid_gap": null,
            "grid_row": null,
            "grid_template_areas": null,
            "grid_template_columns": null,
            "grid_template_rows": null,
            "height": null,
            "justify_content": null,
            "justify_items": null,
            "left": null,
            "margin": null,
            "max_height": null,
            "max_width": null,
            "min_height": null,
            "min_width": null,
            "object_fit": null,
            "object_position": null,
            "order": null,
            "overflow": null,
            "overflow_x": null,
            "overflow_y": null,
            "padding": null,
            "right": null,
            "top": null,
            "visibility": null,
            "width": null
          }
        },
        "c1741b6c372745249406d2c7507784ca": {
          "model_module": "@jupyter-widgets/base",
          "model_name": "LayoutModel",
          "model_module_version": "1.2.0",
          "state": {
            "_model_module": "@jupyter-widgets/base",
            "_model_module_version": "1.2.0",
            "_model_name": "LayoutModel",
            "_view_count": null,
            "_view_module": "@jupyter-widgets/base",
            "_view_module_version": "1.2.0",
            "_view_name": "LayoutView",
            "align_content": null,
            "align_items": null,
            "align_self": null,
            "border": null,
            "bottom": null,
            "display": null,
            "flex": null,
            "flex_flow": null,
            "grid_area": null,
            "grid_auto_columns": null,
            "grid_auto_flow": null,
            "grid_auto_rows": null,
            "grid_column": null,
            "grid_gap": null,
            "grid_row": null,
            "grid_template_areas": null,
            "grid_template_columns": null,
            "grid_template_rows": null,
            "height": null,
            "justify_content": null,
            "justify_items": null,
            "left": null,
            "margin": null,
            "max_height": null,
            "max_width": null,
            "min_height": null,
            "min_width": null,
            "object_fit": null,
            "object_position": null,
            "order": null,
            "overflow": null,
            "overflow_x": null,
            "overflow_y": null,
            "padding": null,
            "right": null,
            "top": null,
            "visibility": null,
            "width": null
          }
        },
        "4ee5b294878f4fd9a0b7e8af03d8ea07": {
          "model_module": "@jupyter-widgets/controls",
          "model_name": "DescriptionStyleModel",
          "model_module_version": "1.5.0",
          "state": {
            "_model_module": "@jupyter-widgets/controls",
            "_model_module_version": "1.5.0",
            "_model_name": "DescriptionStyleModel",
            "_view_count": null,
            "_view_module": "@jupyter-widgets/base",
            "_view_module_version": "1.2.0",
            "_view_name": "StyleView",
            "description_width": ""
          }
        },
        "fe9892e6a75f474bad5a673274c2b8b7": {
          "model_module": "@jupyter-widgets/base",
          "model_name": "LayoutModel",
          "model_module_version": "1.2.0",
          "state": {
            "_model_module": "@jupyter-widgets/base",
            "_model_module_version": "1.2.0",
            "_model_name": "LayoutModel",
            "_view_count": null,
            "_view_module": "@jupyter-widgets/base",
            "_view_module_version": "1.2.0",
            "_view_name": "LayoutView",
            "align_content": null,
            "align_items": null,
            "align_self": null,
            "border": null,
            "bottom": null,
            "display": null,
            "flex": null,
            "flex_flow": null,
            "grid_area": null,
            "grid_auto_columns": null,
            "grid_auto_flow": null,
            "grid_auto_rows": null,
            "grid_column": null,
            "grid_gap": null,
            "grid_row": null,
            "grid_template_areas": null,
            "grid_template_columns": null,
            "grid_template_rows": null,
            "height": null,
            "justify_content": null,
            "justify_items": null,
            "left": null,
            "margin": null,
            "max_height": null,
            "max_width": null,
            "min_height": null,
            "min_width": null,
            "object_fit": null,
            "object_position": null,
            "order": null,
            "overflow": null,
            "overflow_x": null,
            "overflow_y": null,
            "padding": null,
            "right": null,
            "top": null,
            "visibility": null,
            "width": null
          }
        },
        "a8687a65b8114c9bb2aa2070498d79a5": {
          "model_module": "@jupyter-widgets/controls",
          "model_name": "ProgressStyleModel",
          "model_module_version": "1.5.0",
          "state": {
            "_model_module": "@jupyter-widgets/controls",
            "_model_module_version": "1.5.0",
            "_model_name": "ProgressStyleModel",
            "_view_count": null,
            "_view_module": "@jupyter-widgets/base",
            "_view_module_version": "1.2.0",
            "_view_name": "StyleView",
            "bar_color": null,
            "description_width": ""
          }
        },
        "c63b21f22f6f45e1accb42a45c73ceb7": {
          "model_module": "@jupyter-widgets/base",
          "model_name": "LayoutModel",
          "model_module_version": "1.2.0",
          "state": {
            "_model_module": "@jupyter-widgets/base",
            "_model_module_version": "1.2.0",
            "_model_name": "LayoutModel",
            "_view_count": null,
            "_view_module": "@jupyter-widgets/base",
            "_view_module_version": "1.2.0",
            "_view_name": "LayoutView",
            "align_content": null,
            "align_items": null,
            "align_self": null,
            "border": null,
            "bottom": null,
            "display": null,
            "flex": null,
            "flex_flow": null,
            "grid_area": null,
            "grid_auto_columns": null,
            "grid_auto_flow": null,
            "grid_auto_rows": null,
            "grid_column": null,
            "grid_gap": null,
            "grid_row": null,
            "grid_template_areas": null,
            "grid_template_columns": null,
            "grid_template_rows": null,
            "height": null,
            "justify_content": null,
            "justify_items": null,
            "left": null,
            "margin": null,
            "max_height": null,
            "max_width": null,
            "min_height": null,
            "min_width": null,
            "object_fit": null,
            "object_position": null,
            "order": null,
            "overflow": null,
            "overflow_x": null,
            "overflow_y": null,
            "padding": null,
            "right": null,
            "top": null,
            "visibility": null,
            "width": null
          }
        },
        "b05095fc66a7434b8be0b07a3aaa58d3": {
          "model_module": "@jupyter-widgets/controls",
          "model_name": "DescriptionStyleModel",
          "model_module_version": "1.5.0",
          "state": {
            "_model_module": "@jupyter-widgets/controls",
            "_model_module_version": "1.5.0",
            "_model_name": "DescriptionStyleModel",
            "_view_count": null,
            "_view_module": "@jupyter-widgets/base",
            "_view_module_version": "1.2.0",
            "_view_name": "StyleView",
            "description_width": ""
          }
        },
        "340d1498187b45dc92d80272d57cc925": {
          "model_module": "@jupyter-widgets/controls",
          "model_name": "HBoxModel",
          "model_module_version": "1.5.0",
          "state": {
            "_dom_classes": [],
            "_model_module": "@jupyter-widgets/controls",
            "_model_module_version": "1.5.0",
            "_model_name": "HBoxModel",
            "_view_count": null,
            "_view_module": "@jupyter-widgets/controls",
            "_view_module_version": "1.5.0",
            "_view_name": "HBoxView",
            "box_style": "",
            "children": [
              "IPY_MODEL_f817e0908de34cb6bdd6245bfcb104ed",
              "IPY_MODEL_ce3b3be2e0794b6fa94eee79ff69f532",
              "IPY_MODEL_33fa6e5bb99a421eac80671fcd3700f2"
            ],
            "layout": "IPY_MODEL_a949cb018c01467fae6de76c3846ed7d"
          }
        },
        "f817e0908de34cb6bdd6245bfcb104ed": {
          "model_module": "@jupyter-widgets/controls",
          "model_name": "HTMLModel",
          "model_module_version": "1.5.0",
          "state": {
            "_dom_classes": [],
            "_model_module": "@jupyter-widgets/controls",
            "_model_module_version": "1.5.0",
            "_model_name": "HTMLModel",
            "_view_count": null,
            "_view_module": "@jupyter-widgets/controls",
            "_view_module_version": "1.5.0",
            "_view_name": "HTMLView",
            "description": "",
            "description_tooltip": null,
            "layout": "IPY_MODEL_4e226df004e743a0b0e711cc13a08500",
            "placeholder": "​",
            "style": "IPY_MODEL_3cde8c384d9a4b918c6067ed14344e15",
            "value": "Downloading builder script: 100%"
          }
        },
        "ce3b3be2e0794b6fa94eee79ff69f532": {
          "model_module": "@jupyter-widgets/controls",
          "model_name": "FloatProgressModel",
          "model_module_version": "1.5.0",
          "state": {
            "_dom_classes": [],
            "_model_module": "@jupyter-widgets/controls",
            "_model_module_version": "1.5.0",
            "_model_name": "FloatProgressModel",
            "_view_count": null,
            "_view_module": "@jupyter-widgets/controls",
            "_view_module_version": "1.5.0",
            "_view_name": "ProgressView",
            "bar_style": "success",
            "description": "",
            "description_tooltip": null,
            "layout": "IPY_MODEL_b301474ada9e44d7a3b122b8aceed1cf",
            "max": 7635,
            "min": 0,
            "orientation": "horizontal",
            "style": "IPY_MODEL_689751a7752c479f951fabd746e6c0bf",
            "value": 7635
          }
        },
        "33fa6e5bb99a421eac80671fcd3700f2": {
          "model_module": "@jupyter-widgets/controls",
          "model_name": "HTMLModel",
          "model_module_version": "1.5.0",
          "state": {
            "_dom_classes": [],
            "_model_module": "@jupyter-widgets/controls",
            "_model_module_version": "1.5.0",
            "_model_name": "HTMLModel",
            "_view_count": null,
            "_view_module": "@jupyter-widgets/controls",
            "_view_module_version": "1.5.0",
            "_view_name": "HTMLView",
            "description": "",
            "description_tooltip": null,
            "layout": "IPY_MODEL_555b3d6931474375955630fae456f980",
            "placeholder": "​",
            "style": "IPY_MODEL_81621e197f604bc98393631d7ef2a649",
            "value": " 7.63k/7.63k [00:00&lt;00:00, 467kB/s]"
          }
        },
        "a949cb018c01467fae6de76c3846ed7d": {
          "model_module": "@jupyter-widgets/base",
          "model_name": "LayoutModel",
          "model_module_version": "1.2.0",
          "state": {
            "_model_module": "@jupyter-widgets/base",
            "_model_module_version": "1.2.0",
            "_model_name": "LayoutModel",
            "_view_count": null,
            "_view_module": "@jupyter-widgets/base",
            "_view_module_version": "1.2.0",
            "_view_name": "LayoutView",
            "align_content": null,
            "align_items": null,
            "align_self": null,
            "border": null,
            "bottom": null,
            "display": null,
            "flex": null,
            "flex_flow": null,
            "grid_area": null,
            "grid_auto_columns": null,
            "grid_auto_flow": null,
            "grid_auto_rows": null,
            "grid_column": null,
            "grid_gap": null,
            "grid_row": null,
            "grid_template_areas": null,
            "grid_template_columns": null,
            "grid_template_rows": null,
            "height": null,
            "justify_content": null,
            "justify_items": null,
            "left": null,
            "margin": null,
            "max_height": null,
            "max_width": null,
            "min_height": null,
            "min_width": null,
            "object_fit": null,
            "object_position": null,
            "order": null,
            "overflow": null,
            "overflow_x": null,
            "overflow_y": null,
            "padding": null,
            "right": null,
            "top": null,
            "visibility": null,
            "width": null
          }
        },
        "4e226df004e743a0b0e711cc13a08500": {
          "model_module": "@jupyter-widgets/base",
          "model_name": "LayoutModel",
          "model_module_version": "1.2.0",
          "state": {
            "_model_module": "@jupyter-widgets/base",
            "_model_module_version": "1.2.0",
            "_model_name": "LayoutModel",
            "_view_count": null,
            "_view_module": "@jupyter-widgets/base",
            "_view_module_version": "1.2.0",
            "_view_name": "LayoutView",
            "align_content": null,
            "align_items": null,
            "align_self": null,
            "border": null,
            "bottom": null,
            "display": null,
            "flex": null,
            "flex_flow": null,
            "grid_area": null,
            "grid_auto_columns": null,
            "grid_auto_flow": null,
            "grid_auto_rows": null,
            "grid_column": null,
            "grid_gap": null,
            "grid_row": null,
            "grid_template_areas": null,
            "grid_template_columns": null,
            "grid_template_rows": null,
            "height": null,
            "justify_content": null,
            "justify_items": null,
            "left": null,
            "margin": null,
            "max_height": null,
            "max_width": null,
            "min_height": null,
            "min_width": null,
            "object_fit": null,
            "object_position": null,
            "order": null,
            "overflow": null,
            "overflow_x": null,
            "overflow_y": null,
            "padding": null,
            "right": null,
            "top": null,
            "visibility": null,
            "width": null
          }
        },
        "3cde8c384d9a4b918c6067ed14344e15": {
          "model_module": "@jupyter-widgets/controls",
          "model_name": "DescriptionStyleModel",
          "model_module_version": "1.5.0",
          "state": {
            "_model_module": "@jupyter-widgets/controls",
            "_model_module_version": "1.5.0",
            "_model_name": "DescriptionStyleModel",
            "_view_count": null,
            "_view_module": "@jupyter-widgets/base",
            "_view_module_version": "1.2.0",
            "_view_name": "StyleView",
            "description_width": ""
          }
        },
        "b301474ada9e44d7a3b122b8aceed1cf": {
          "model_module": "@jupyter-widgets/base",
          "model_name": "LayoutModel",
          "model_module_version": "1.2.0",
          "state": {
            "_model_module": "@jupyter-widgets/base",
            "_model_module_version": "1.2.0",
            "_model_name": "LayoutModel",
            "_view_count": null,
            "_view_module": "@jupyter-widgets/base",
            "_view_module_version": "1.2.0",
            "_view_name": "LayoutView",
            "align_content": null,
            "align_items": null,
            "align_self": null,
            "border": null,
            "bottom": null,
            "display": null,
            "flex": null,
            "flex_flow": null,
            "grid_area": null,
            "grid_auto_columns": null,
            "grid_auto_flow": null,
            "grid_auto_rows": null,
            "grid_column": null,
            "grid_gap": null,
            "grid_row": null,
            "grid_template_areas": null,
            "grid_template_columns": null,
            "grid_template_rows": null,
            "height": null,
            "justify_content": null,
            "justify_items": null,
            "left": null,
            "margin": null,
            "max_height": null,
            "max_width": null,
            "min_height": null,
            "min_width": null,
            "object_fit": null,
            "object_position": null,
            "order": null,
            "overflow": null,
            "overflow_x": null,
            "overflow_y": null,
            "padding": null,
            "right": null,
            "top": null,
            "visibility": null,
            "width": null
          }
        },
        "689751a7752c479f951fabd746e6c0bf": {
          "model_module": "@jupyter-widgets/controls",
          "model_name": "ProgressStyleModel",
          "model_module_version": "1.5.0",
          "state": {
            "_model_module": "@jupyter-widgets/controls",
            "_model_module_version": "1.5.0",
            "_model_name": "ProgressStyleModel",
            "_view_count": null,
            "_view_module": "@jupyter-widgets/base",
            "_view_module_version": "1.2.0",
            "_view_name": "StyleView",
            "bar_color": null,
            "description_width": ""
          }
        },
        "555b3d6931474375955630fae456f980": {
          "model_module": "@jupyter-widgets/base",
          "model_name": "LayoutModel",
          "model_module_version": "1.2.0",
          "state": {
            "_model_module": "@jupyter-widgets/base",
            "_model_module_version": "1.2.0",
            "_model_name": "LayoutModel",
            "_view_count": null,
            "_view_module": "@jupyter-widgets/base",
            "_view_module_version": "1.2.0",
            "_view_name": "LayoutView",
            "align_content": null,
            "align_items": null,
            "align_self": null,
            "border": null,
            "bottom": null,
            "display": null,
            "flex": null,
            "flex_flow": null,
            "grid_area": null,
            "grid_auto_columns": null,
            "grid_auto_flow": null,
            "grid_auto_rows": null,
            "grid_column": null,
            "grid_gap": null,
            "grid_row": null,
            "grid_template_areas": null,
            "grid_template_columns": null,
            "grid_template_rows": null,
            "height": null,
            "justify_content": null,
            "justify_items": null,
            "left": null,
            "margin": null,
            "max_height": null,
            "max_width": null,
            "min_height": null,
            "min_width": null,
            "object_fit": null,
            "object_position": null,
            "order": null,
            "overflow": null,
            "overflow_x": null,
            "overflow_y": null,
            "padding": null,
            "right": null,
            "top": null,
            "visibility": null,
            "width": null
          }
        },
        "81621e197f604bc98393631d7ef2a649": {
          "model_module": "@jupyter-widgets/controls",
          "model_name": "DescriptionStyleModel",
          "model_module_version": "1.5.0",
          "state": {
            "_model_module": "@jupyter-widgets/controls",
            "_model_module_version": "1.5.0",
            "_model_name": "DescriptionStyleModel",
            "_view_count": null,
            "_view_module": "@jupyter-widgets/base",
            "_view_module_version": "1.2.0",
            "_view_name": "StyleView",
            "description_width": ""
          }
        },
        "63e88085ce2b4fbca134c7ddf44ef83a": {
          "model_module": "@jupyter-widgets/controls",
          "model_name": "HBoxModel",
          "model_module_version": "1.5.0",
          "state": {
            "_dom_classes": [],
            "_model_module": "@jupyter-widgets/controls",
            "_model_module_version": "1.5.0",
            "_model_name": "HBoxModel",
            "_view_count": null,
            "_view_module": "@jupyter-widgets/controls",
            "_view_module_version": "1.5.0",
            "_view_name": "HBoxView",
            "box_style": "",
            "children": [
              "IPY_MODEL_122e2ad9b8d142c5999d0404b2072589",
              "IPY_MODEL_e9d245cbf0494e129af6df292067f1b7",
              "IPY_MODEL_4a773ccbe4384762b4acd9a0818b41e7"
            ],
            "layout": "IPY_MODEL_4c78be107dea4424bdf4c71d41cbb302"
          }
        },
        "122e2ad9b8d142c5999d0404b2072589": {
          "model_module": "@jupyter-widgets/controls",
          "model_name": "HTMLModel",
          "model_module_version": "1.5.0",
          "state": {
            "_dom_classes": [],
            "_model_module": "@jupyter-widgets/controls",
            "_model_module_version": "1.5.0",
            "_model_name": "HTMLModel",
            "_view_count": null,
            "_view_module": "@jupyter-widgets/controls",
            "_view_module_version": "1.5.0",
            "_view_name": "HTMLView",
            "description": "",
            "description_tooltip": null,
            "layout": "IPY_MODEL_3016778b375e49a3813952f651d72d12",
            "placeholder": "​",
            "style": "IPY_MODEL_7b223c1614604182977f3f41c3d99bba",
            "value": "Downloading metadata: 100%"
          }
        },
        "e9d245cbf0494e129af6df292067f1b7": {
          "model_module": "@jupyter-widgets/controls",
          "model_name": "FloatProgressModel",
          "model_module_version": "1.5.0",
          "state": {
            "_dom_classes": [],
            "_model_module": "@jupyter-widgets/controls",
            "_model_module_version": "1.5.0",
            "_model_name": "FloatProgressModel",
            "_view_count": null,
            "_view_module": "@jupyter-widgets/controls",
            "_view_module_version": "1.5.0",
            "_view_name": "ProgressView",
            "bar_style": "success",
            "description": "",
            "description_tooltip": null,
            "layout": "IPY_MODEL_a204ee96b72148fa9b93c4a61c736504",
            "max": 5651,
            "min": 0,
            "orientation": "horizontal",
            "style": "IPY_MODEL_1b04fe7bfbde43d6b98c867aed8b8e4e",
            "value": 5651
          }
        },
        "4a773ccbe4384762b4acd9a0818b41e7": {
          "model_module": "@jupyter-widgets/controls",
          "model_name": "HTMLModel",
          "model_module_version": "1.5.0",
          "state": {
            "_dom_classes": [],
            "_model_module": "@jupyter-widgets/controls",
            "_model_module_version": "1.5.0",
            "_model_name": "HTMLModel",
            "_view_count": null,
            "_view_module": "@jupyter-widgets/controls",
            "_view_module_version": "1.5.0",
            "_view_name": "HTMLView",
            "description": "",
            "description_tooltip": null,
            "layout": "IPY_MODEL_f87c5cc5ba864257895f3fa44e51b324",
            "placeholder": "​",
            "style": "IPY_MODEL_2e9a9471d1be45c8a51b966d69592877",
            "value": " 5.65k/5.65k [00:00&lt;00:00, 404kB/s]"
          }
        },
        "4c78be107dea4424bdf4c71d41cbb302": {
          "model_module": "@jupyter-widgets/base",
          "model_name": "LayoutModel",
          "model_module_version": "1.2.0",
          "state": {
            "_model_module": "@jupyter-widgets/base",
            "_model_module_version": "1.2.0",
            "_model_name": "LayoutModel",
            "_view_count": null,
            "_view_module": "@jupyter-widgets/base",
            "_view_module_version": "1.2.0",
            "_view_name": "LayoutView",
            "align_content": null,
            "align_items": null,
            "align_self": null,
            "border": null,
            "bottom": null,
            "display": null,
            "flex": null,
            "flex_flow": null,
            "grid_area": null,
            "grid_auto_columns": null,
            "grid_auto_flow": null,
            "grid_auto_rows": null,
            "grid_column": null,
            "grid_gap": null,
            "grid_row": null,
            "grid_template_areas": null,
            "grid_template_columns": null,
            "grid_template_rows": null,
            "height": null,
            "justify_content": null,
            "justify_items": null,
            "left": null,
            "margin": null,
            "max_height": null,
            "max_width": null,
            "min_height": null,
            "min_width": null,
            "object_fit": null,
            "object_position": null,
            "order": null,
            "overflow": null,
            "overflow_x": null,
            "overflow_y": null,
            "padding": null,
            "right": null,
            "top": null,
            "visibility": null,
            "width": null
          }
        },
        "3016778b375e49a3813952f651d72d12": {
          "model_module": "@jupyter-widgets/base",
          "model_name": "LayoutModel",
          "model_module_version": "1.2.0",
          "state": {
            "_model_module": "@jupyter-widgets/base",
            "_model_module_version": "1.2.0",
            "_model_name": "LayoutModel",
            "_view_count": null,
            "_view_module": "@jupyter-widgets/base",
            "_view_module_version": "1.2.0",
            "_view_name": "LayoutView",
            "align_content": null,
            "align_items": null,
            "align_self": null,
            "border": null,
            "bottom": null,
            "display": null,
            "flex": null,
            "flex_flow": null,
            "grid_area": null,
            "grid_auto_columns": null,
            "grid_auto_flow": null,
            "grid_auto_rows": null,
            "grid_column": null,
            "grid_gap": null,
            "grid_row": null,
            "grid_template_areas": null,
            "grid_template_columns": null,
            "grid_template_rows": null,
            "height": null,
            "justify_content": null,
            "justify_items": null,
            "left": null,
            "margin": null,
            "max_height": null,
            "max_width": null,
            "min_height": null,
            "min_width": null,
            "object_fit": null,
            "object_position": null,
            "order": null,
            "overflow": null,
            "overflow_x": null,
            "overflow_y": null,
            "padding": null,
            "right": null,
            "top": null,
            "visibility": null,
            "width": null
          }
        },
        "7b223c1614604182977f3f41c3d99bba": {
          "model_module": "@jupyter-widgets/controls",
          "model_name": "DescriptionStyleModel",
          "model_module_version": "1.5.0",
          "state": {
            "_model_module": "@jupyter-widgets/controls",
            "_model_module_version": "1.5.0",
            "_model_name": "DescriptionStyleModel",
            "_view_count": null,
            "_view_module": "@jupyter-widgets/base",
            "_view_module_version": "1.2.0",
            "_view_name": "StyleView",
            "description_width": ""
          }
        },
        "a204ee96b72148fa9b93c4a61c736504": {
          "model_module": "@jupyter-widgets/base",
          "model_name": "LayoutModel",
          "model_module_version": "1.2.0",
          "state": {
            "_model_module": "@jupyter-widgets/base",
            "_model_module_version": "1.2.0",
            "_model_name": "LayoutModel",
            "_view_count": null,
            "_view_module": "@jupyter-widgets/base",
            "_view_module_version": "1.2.0",
            "_view_name": "LayoutView",
            "align_content": null,
            "align_items": null,
            "align_self": null,
            "border": null,
            "bottom": null,
            "display": null,
            "flex": null,
            "flex_flow": null,
            "grid_area": null,
            "grid_auto_columns": null,
            "grid_auto_flow": null,
            "grid_auto_rows": null,
            "grid_column": null,
            "grid_gap": null,
            "grid_row": null,
            "grid_template_areas": null,
            "grid_template_columns": null,
            "grid_template_rows": null,
            "height": null,
            "justify_content": null,
            "justify_items": null,
            "left": null,
            "margin": null,
            "max_height": null,
            "max_width": null,
            "min_height": null,
            "min_width": null,
            "object_fit": null,
            "object_position": null,
            "order": null,
            "overflow": null,
            "overflow_x": null,
            "overflow_y": null,
            "padding": null,
            "right": null,
            "top": null,
            "visibility": null,
            "width": null
          }
        },
        "1b04fe7bfbde43d6b98c867aed8b8e4e": {
          "model_module": "@jupyter-widgets/controls",
          "model_name": "ProgressStyleModel",
          "model_module_version": "1.5.0",
          "state": {
            "_model_module": "@jupyter-widgets/controls",
            "_model_module_version": "1.5.0",
            "_model_name": "ProgressStyleModel",
            "_view_count": null,
            "_view_module": "@jupyter-widgets/base",
            "_view_module_version": "1.2.0",
            "_view_name": "StyleView",
            "bar_color": null,
            "description_width": ""
          }
        },
        "f87c5cc5ba864257895f3fa44e51b324": {
          "model_module": "@jupyter-widgets/base",
          "model_name": "LayoutModel",
          "model_module_version": "1.2.0",
          "state": {
            "_model_module": "@jupyter-widgets/base",
            "_model_module_version": "1.2.0",
            "_model_name": "LayoutModel",
            "_view_count": null,
            "_view_module": "@jupyter-widgets/base",
            "_view_module_version": "1.2.0",
            "_view_name": "LayoutView",
            "align_content": null,
            "align_items": null,
            "align_self": null,
            "border": null,
            "bottom": null,
            "display": null,
            "flex": null,
            "flex_flow": null,
            "grid_area": null,
            "grid_auto_columns": null,
            "grid_auto_flow": null,
            "grid_auto_rows": null,
            "grid_column": null,
            "grid_gap": null,
            "grid_row": null,
            "grid_template_areas": null,
            "grid_template_columns": null,
            "grid_template_rows": null,
            "height": null,
            "justify_content": null,
            "justify_items": null,
            "left": null,
            "margin": null,
            "max_height": null,
            "max_width": null,
            "min_height": null,
            "min_width": null,
            "object_fit": null,
            "object_position": null,
            "order": null,
            "overflow": null,
            "overflow_x": null,
            "overflow_y": null,
            "padding": null,
            "right": null,
            "top": null,
            "visibility": null,
            "width": null
          }
        },
        "2e9a9471d1be45c8a51b966d69592877": {
          "model_module": "@jupyter-widgets/controls",
          "model_name": "DescriptionStyleModel",
          "model_module_version": "1.5.0",
          "state": {
            "_model_module": "@jupyter-widgets/controls",
            "_model_module_version": "1.5.0",
            "_model_name": "DescriptionStyleModel",
            "_view_count": null,
            "_view_module": "@jupyter-widgets/base",
            "_view_module_version": "1.2.0",
            "_view_name": "StyleView",
            "description_width": ""
          }
        },
        "4fd915988c5a45528e11eaa6652bfbc7": {
          "model_module": "@jupyter-widgets/controls",
          "model_name": "HBoxModel",
          "model_module_version": "1.5.0",
          "state": {
            "_dom_classes": [],
            "_model_module": "@jupyter-widgets/controls",
            "_model_module_version": "1.5.0",
            "_model_name": "HBoxModel",
            "_view_count": null,
            "_view_module": "@jupyter-widgets/controls",
            "_view_module_version": "1.5.0",
            "_view_name": "HBoxView",
            "box_style": "",
            "children": [
              "IPY_MODEL_1819fbbe6fc541b3b3c580a6037a7c87",
              "IPY_MODEL_8c5b72afec334d5e94677da94f20f33e",
              "IPY_MODEL_531a3f6465a44572b39c46931626ecab"
            ],
            "layout": "IPY_MODEL_47403cdef11749578f8434068172aa12"
          }
        },
        "1819fbbe6fc541b3b3c580a6037a7c87": {
          "model_module": "@jupyter-widgets/controls",
          "model_name": "HTMLModel",
          "model_module_version": "1.5.0",
          "state": {
            "_dom_classes": [],
            "_model_module": "@jupyter-widgets/controls",
            "_model_module_version": "1.5.0",
            "_model_name": "HTMLModel",
            "_view_count": null,
            "_view_module": "@jupyter-widgets/controls",
            "_view_module_version": "1.5.0",
            "_view_name": "HTMLView",
            "description": "",
            "description_tooltip": null,
            "layout": "IPY_MODEL_658ee1a1bb474fd8bcf16cf8188e68d0",
            "placeholder": "​",
            "style": "IPY_MODEL_d1b84f2f884a40fcbf366886b01b71a2",
            "value": "Downloading readme: 100%"
          }
        },
        "8c5b72afec334d5e94677da94f20f33e": {
          "model_module": "@jupyter-widgets/controls",
          "model_name": "FloatProgressModel",
          "model_module_version": "1.5.0",
          "state": {
            "_dom_classes": [],
            "_model_module": "@jupyter-widgets/controls",
            "_model_module_version": "1.5.0",
            "_model_name": "FloatProgressModel",
            "_view_count": null,
            "_view_module": "@jupyter-widgets/controls",
            "_view_module_version": "1.5.0",
            "_view_name": "ProgressView",
            "bar_style": "success",
            "description": "",
            "description_tooltip": null,
            "layout": "IPY_MODEL_d660dc4cc2f84017810df4965f206e57",
            "max": 10758,
            "min": 0,
            "orientation": "horizontal",
            "style": "IPY_MODEL_95472cfe92cd495ba511af374c7dd4d9",
            "value": 10758
          }
        },
        "531a3f6465a44572b39c46931626ecab": {
          "model_module": "@jupyter-widgets/controls",
          "model_name": "HTMLModel",
          "model_module_version": "1.5.0",
          "state": {
            "_dom_classes": [],
            "_model_module": "@jupyter-widgets/controls",
            "_model_module_version": "1.5.0",
            "_model_name": "HTMLModel",
            "_view_count": null,
            "_view_module": "@jupyter-widgets/controls",
            "_view_module_version": "1.5.0",
            "_view_name": "HTMLView",
            "description": "",
            "description_tooltip": null,
            "layout": "IPY_MODEL_118d59e774a945a69b318b8f65f4c3d4",
            "placeholder": "​",
            "style": "IPY_MODEL_a00efaecb5cb4cfbabea216b35d9a5ee",
            "value": " 10.8k/10.8k [00:00&lt;00:00, 701kB/s]"
          }
        },
        "47403cdef11749578f8434068172aa12": {
          "model_module": "@jupyter-widgets/base",
          "model_name": "LayoutModel",
          "model_module_version": "1.2.0",
          "state": {
            "_model_module": "@jupyter-widgets/base",
            "_model_module_version": "1.2.0",
            "_model_name": "LayoutModel",
            "_view_count": null,
            "_view_module": "@jupyter-widgets/base",
            "_view_module_version": "1.2.0",
            "_view_name": "LayoutView",
            "align_content": null,
            "align_items": null,
            "align_self": null,
            "border": null,
            "bottom": null,
            "display": null,
            "flex": null,
            "flex_flow": null,
            "grid_area": null,
            "grid_auto_columns": null,
            "grid_auto_flow": null,
            "grid_auto_rows": null,
            "grid_column": null,
            "grid_gap": null,
            "grid_row": null,
            "grid_template_areas": null,
            "grid_template_columns": null,
            "grid_template_rows": null,
            "height": null,
            "justify_content": null,
            "justify_items": null,
            "left": null,
            "margin": null,
            "max_height": null,
            "max_width": null,
            "min_height": null,
            "min_width": null,
            "object_fit": null,
            "object_position": null,
            "order": null,
            "overflow": null,
            "overflow_x": null,
            "overflow_y": null,
            "padding": null,
            "right": null,
            "top": null,
            "visibility": null,
            "width": null
          }
        },
        "658ee1a1bb474fd8bcf16cf8188e68d0": {
          "model_module": "@jupyter-widgets/base",
          "model_name": "LayoutModel",
          "model_module_version": "1.2.0",
          "state": {
            "_model_module": "@jupyter-widgets/base",
            "_model_module_version": "1.2.0",
            "_model_name": "LayoutModel",
            "_view_count": null,
            "_view_module": "@jupyter-widgets/base",
            "_view_module_version": "1.2.0",
            "_view_name": "LayoutView",
            "align_content": null,
            "align_items": null,
            "align_self": null,
            "border": null,
            "bottom": null,
            "display": null,
            "flex": null,
            "flex_flow": null,
            "grid_area": null,
            "grid_auto_columns": null,
            "grid_auto_flow": null,
            "grid_auto_rows": null,
            "grid_column": null,
            "grid_gap": null,
            "grid_row": null,
            "grid_template_areas": null,
            "grid_template_columns": null,
            "grid_template_rows": null,
            "height": null,
            "justify_content": null,
            "justify_items": null,
            "left": null,
            "margin": null,
            "max_height": null,
            "max_width": null,
            "min_height": null,
            "min_width": null,
            "object_fit": null,
            "object_position": null,
            "order": null,
            "overflow": null,
            "overflow_x": null,
            "overflow_y": null,
            "padding": null,
            "right": null,
            "top": null,
            "visibility": null,
            "width": null
          }
        },
        "d1b84f2f884a40fcbf366886b01b71a2": {
          "model_module": "@jupyter-widgets/controls",
          "model_name": "DescriptionStyleModel",
          "model_module_version": "1.5.0",
          "state": {
            "_model_module": "@jupyter-widgets/controls",
            "_model_module_version": "1.5.0",
            "_model_name": "DescriptionStyleModel",
            "_view_count": null,
            "_view_module": "@jupyter-widgets/base",
            "_view_module_version": "1.2.0",
            "_view_name": "StyleView",
            "description_width": ""
          }
        },
        "d660dc4cc2f84017810df4965f206e57": {
          "model_module": "@jupyter-widgets/base",
          "model_name": "LayoutModel",
          "model_module_version": "1.2.0",
          "state": {
            "_model_module": "@jupyter-widgets/base",
            "_model_module_version": "1.2.0",
            "_model_name": "LayoutModel",
            "_view_count": null,
            "_view_module": "@jupyter-widgets/base",
            "_view_module_version": "1.2.0",
            "_view_name": "LayoutView",
            "align_content": null,
            "align_items": null,
            "align_self": null,
            "border": null,
            "bottom": null,
            "display": null,
            "flex": null,
            "flex_flow": null,
            "grid_area": null,
            "grid_auto_columns": null,
            "grid_auto_flow": null,
            "grid_auto_rows": null,
            "grid_column": null,
            "grid_gap": null,
            "grid_row": null,
            "grid_template_areas": null,
            "grid_template_columns": null,
            "grid_template_rows": null,
            "height": null,
            "justify_content": null,
            "justify_items": null,
            "left": null,
            "margin": null,
            "max_height": null,
            "max_width": null,
            "min_height": null,
            "min_width": null,
            "object_fit": null,
            "object_position": null,
            "order": null,
            "overflow": null,
            "overflow_x": null,
            "overflow_y": null,
            "padding": null,
            "right": null,
            "top": null,
            "visibility": null,
            "width": null
          }
        },
        "95472cfe92cd495ba511af374c7dd4d9": {
          "model_module": "@jupyter-widgets/controls",
          "model_name": "ProgressStyleModel",
          "model_module_version": "1.5.0",
          "state": {
            "_model_module": "@jupyter-widgets/controls",
            "_model_module_version": "1.5.0",
            "_model_name": "ProgressStyleModel",
            "_view_count": null,
            "_view_module": "@jupyter-widgets/base",
            "_view_module_version": "1.2.0",
            "_view_name": "StyleView",
            "bar_color": null,
            "description_width": ""
          }
        },
        "118d59e774a945a69b318b8f65f4c3d4": {
          "model_module": "@jupyter-widgets/base",
          "model_name": "LayoutModel",
          "model_module_version": "1.2.0",
          "state": {
            "_model_module": "@jupyter-widgets/base",
            "_model_module_version": "1.2.0",
            "_model_name": "LayoutModel",
            "_view_count": null,
            "_view_module": "@jupyter-widgets/base",
            "_view_module_version": "1.2.0",
            "_view_name": "LayoutView",
            "align_content": null,
            "align_items": null,
            "align_self": null,
            "border": null,
            "bottom": null,
            "display": null,
            "flex": null,
            "flex_flow": null,
            "grid_area": null,
            "grid_auto_columns": null,
            "grid_auto_flow": null,
            "grid_auto_rows": null,
            "grid_column": null,
            "grid_gap": null,
            "grid_row": null,
            "grid_template_areas": null,
            "grid_template_columns": null,
            "grid_template_rows": null,
            "height": null,
            "justify_content": null,
            "justify_items": null,
            "left": null,
            "margin": null,
            "max_height": null,
            "max_width": null,
            "min_height": null,
            "min_width": null,
            "object_fit": null,
            "object_position": null,
            "order": null,
            "overflow": null,
            "overflow_x": null,
            "overflow_y": null,
            "padding": null,
            "right": null,
            "top": null,
            "visibility": null,
            "width": null
          }
        },
        "a00efaecb5cb4cfbabea216b35d9a5ee": {
          "model_module": "@jupyter-widgets/controls",
          "model_name": "DescriptionStyleModel",
          "model_module_version": "1.5.0",
          "state": {
            "_model_module": "@jupyter-widgets/controls",
            "_model_module_version": "1.5.0",
            "_model_name": "DescriptionStyleModel",
            "_view_count": null,
            "_view_module": "@jupyter-widgets/base",
            "_view_module_version": "1.2.0",
            "_view_name": "StyleView",
            "description_width": ""
          }
        },
        "b26af41582c045038c80699d7be1fff6": {
          "model_module": "@jupyter-widgets/controls",
          "model_name": "HBoxModel",
          "model_module_version": "1.5.0",
          "state": {
            "_dom_classes": [],
            "_model_module": "@jupyter-widgets/controls",
            "_model_module_version": "1.5.0",
            "_model_name": "HBoxModel",
            "_view_count": null,
            "_view_module": "@jupyter-widgets/controls",
            "_view_module_version": "1.5.0",
            "_view_name": "HBoxView",
            "box_style": "",
            "children": [
              "IPY_MODEL_41397f8e878b42a3b71ab7949ef0780d",
              "IPY_MODEL_575c5f9411384631b49f5115bfa83719",
              "IPY_MODEL_5c5ffdc7c995418d83518546aa5a34ed"
            ],
            "layout": "IPY_MODEL_8d5dd522854c48beb5a642233e95ecb6"
          }
        },
        "41397f8e878b42a3b71ab7949ef0780d": {
          "model_module": "@jupyter-widgets/controls",
          "model_name": "HTMLModel",
          "model_module_version": "1.5.0",
          "state": {
            "_dom_classes": [],
            "_model_module": "@jupyter-widgets/controls",
            "_model_module_version": "1.5.0",
            "_model_name": "HTMLModel",
            "_view_count": null,
            "_view_module": "@jupyter-widgets/controls",
            "_view_module_version": "1.5.0",
            "_view_name": "HTMLView",
            "description": "",
            "description_tooltip": null,
            "layout": "IPY_MODEL_6152a2d427b045a5977119882c52fb66",
            "placeholder": "​",
            "style": "IPY_MODEL_0a0089aa87aa46f3a18d26de50eaf286",
            "value": "Downloading data: 100%"
          }
        },
        "575c5f9411384631b49f5115bfa83719": {
          "model_module": "@jupyter-widgets/controls",
          "model_name": "FloatProgressModel",
          "model_module_version": "1.5.0",
          "state": {
            "_dom_classes": [],
            "_model_module": "@jupyter-widgets/controls",
            "_model_module_version": "1.5.0",
            "_model_name": "FloatProgressModel",
            "_view_count": null,
            "_view_module": "@jupyter-widgets/controls",
            "_view_module_version": "1.5.0",
            "_view_name": "ProgressView",
            "bar_style": "success",
            "description": "",
            "description_tooltip": null,
            "layout": "IPY_MODEL_66a5499263fb4c3f9215437f12cba955",
            "max": 67701584,
            "min": 0,
            "orientation": "horizontal",
            "style": "IPY_MODEL_96a29befe16c4453906dd1e7b4eff559",
            "value": 67701584
          }
        },
        "5c5ffdc7c995418d83518546aa5a34ed": {
          "model_module": "@jupyter-widgets/controls",
          "model_name": "HTMLModel",
          "model_module_version": "1.5.0",
          "state": {
            "_dom_classes": [],
            "_model_module": "@jupyter-widgets/controls",
            "_model_module_version": "1.5.0",
            "_model_name": "HTMLModel",
            "_view_count": null,
            "_view_module": "@jupyter-widgets/controls",
            "_view_module_version": "1.5.0",
            "_view_name": "HTMLView",
            "description": "",
            "description_tooltip": null,
            "layout": "IPY_MODEL_95e97fdf99a8457d8d1986e1459f7330",
            "placeholder": "​",
            "style": "IPY_MODEL_eba753af510e485da98592f560bb0f14",
            "value": " 67.7M/67.7M [00:01&lt;00:00, 73.8MB/s]"
          }
        },
        "8d5dd522854c48beb5a642233e95ecb6": {
          "model_module": "@jupyter-widgets/base",
          "model_name": "LayoutModel",
          "model_module_version": "1.2.0",
          "state": {
            "_model_module": "@jupyter-widgets/base",
            "_model_module_version": "1.2.0",
            "_model_name": "LayoutModel",
            "_view_count": null,
            "_view_module": "@jupyter-widgets/base",
            "_view_module_version": "1.2.0",
            "_view_name": "LayoutView",
            "align_content": null,
            "align_items": null,
            "align_self": null,
            "border": null,
            "bottom": null,
            "display": null,
            "flex": null,
            "flex_flow": null,
            "grid_area": null,
            "grid_auto_columns": null,
            "grid_auto_flow": null,
            "grid_auto_rows": null,
            "grid_column": null,
            "grid_gap": null,
            "grid_row": null,
            "grid_template_areas": null,
            "grid_template_columns": null,
            "grid_template_rows": null,
            "height": null,
            "justify_content": null,
            "justify_items": null,
            "left": null,
            "margin": null,
            "max_height": null,
            "max_width": null,
            "min_height": null,
            "min_width": null,
            "object_fit": null,
            "object_position": null,
            "order": null,
            "overflow": null,
            "overflow_x": null,
            "overflow_y": null,
            "padding": null,
            "right": null,
            "top": null,
            "visibility": null,
            "width": null
          }
        },
        "6152a2d427b045a5977119882c52fb66": {
          "model_module": "@jupyter-widgets/base",
          "model_name": "LayoutModel",
          "model_module_version": "1.2.0",
          "state": {
            "_model_module": "@jupyter-widgets/base",
            "_model_module_version": "1.2.0",
            "_model_name": "LayoutModel",
            "_view_count": null,
            "_view_module": "@jupyter-widgets/base",
            "_view_module_version": "1.2.0",
            "_view_name": "LayoutView",
            "align_content": null,
            "align_items": null,
            "align_self": null,
            "border": null,
            "bottom": null,
            "display": null,
            "flex": null,
            "flex_flow": null,
            "grid_area": null,
            "grid_auto_columns": null,
            "grid_auto_flow": null,
            "grid_auto_rows": null,
            "grid_column": null,
            "grid_gap": null,
            "grid_row": null,
            "grid_template_areas": null,
            "grid_template_columns": null,
            "grid_template_rows": null,
            "height": null,
            "justify_content": null,
            "justify_items": null,
            "left": null,
            "margin": null,
            "max_height": null,
            "max_width": null,
            "min_height": null,
            "min_width": null,
            "object_fit": null,
            "object_position": null,
            "order": null,
            "overflow": null,
            "overflow_x": null,
            "overflow_y": null,
            "padding": null,
            "right": null,
            "top": null,
            "visibility": null,
            "width": null
          }
        },
        "0a0089aa87aa46f3a18d26de50eaf286": {
          "model_module": "@jupyter-widgets/controls",
          "model_name": "DescriptionStyleModel",
          "model_module_version": "1.5.0",
          "state": {
            "_model_module": "@jupyter-widgets/controls",
            "_model_module_version": "1.5.0",
            "_model_name": "DescriptionStyleModel",
            "_view_count": null,
            "_view_module": "@jupyter-widgets/base",
            "_view_module_version": "1.2.0",
            "_view_name": "StyleView",
            "description_width": ""
          }
        },
        "66a5499263fb4c3f9215437f12cba955": {
          "model_module": "@jupyter-widgets/base",
          "model_name": "LayoutModel",
          "model_module_version": "1.2.0",
          "state": {
            "_model_module": "@jupyter-widgets/base",
            "_model_module_version": "1.2.0",
            "_model_name": "LayoutModel",
            "_view_count": null,
            "_view_module": "@jupyter-widgets/base",
            "_view_module_version": "1.2.0",
            "_view_name": "LayoutView",
            "align_content": null,
            "align_items": null,
            "align_self": null,
            "border": null,
            "bottom": null,
            "display": null,
            "flex": null,
            "flex_flow": null,
            "grid_area": null,
            "grid_auto_columns": null,
            "grid_auto_flow": null,
            "grid_auto_rows": null,
            "grid_column": null,
            "grid_gap": null,
            "grid_row": null,
            "grid_template_areas": null,
            "grid_template_columns": null,
            "grid_template_rows": null,
            "height": null,
            "justify_content": null,
            "justify_items": null,
            "left": null,
            "margin": null,
            "max_height": null,
            "max_width": null,
            "min_height": null,
            "min_width": null,
            "object_fit": null,
            "object_position": null,
            "order": null,
            "overflow": null,
            "overflow_x": null,
            "overflow_y": null,
            "padding": null,
            "right": null,
            "top": null,
            "visibility": null,
            "width": null
          }
        },
        "96a29befe16c4453906dd1e7b4eff559": {
          "model_module": "@jupyter-widgets/controls",
          "model_name": "ProgressStyleModel",
          "model_module_version": "1.5.0",
          "state": {
            "_model_module": "@jupyter-widgets/controls",
            "_model_module_version": "1.5.0",
            "_model_name": "ProgressStyleModel",
            "_view_count": null,
            "_view_module": "@jupyter-widgets/base",
            "_view_module_version": "1.2.0",
            "_view_name": "StyleView",
            "bar_color": null,
            "description_width": ""
          }
        },
        "95e97fdf99a8457d8d1986e1459f7330": {
          "model_module": "@jupyter-widgets/base",
          "model_name": "LayoutModel",
          "model_module_version": "1.2.0",
          "state": {
            "_model_module": "@jupyter-widgets/base",
            "_model_module_version": "1.2.0",
            "_model_name": "LayoutModel",
            "_view_count": null,
            "_view_module": "@jupyter-widgets/base",
            "_view_module_version": "1.2.0",
            "_view_name": "LayoutView",
            "align_content": null,
            "align_items": null,
            "align_self": null,
            "border": null,
            "bottom": null,
            "display": null,
            "flex": null,
            "flex_flow": null,
            "grid_area": null,
            "grid_auto_columns": null,
            "grid_auto_flow": null,
            "grid_auto_rows": null,
            "grid_column": null,
            "grid_gap": null,
            "grid_row": null,
            "grid_template_areas": null,
            "grid_template_columns": null,
            "grid_template_rows": null,
            "height": null,
            "justify_content": null,
            "justify_items": null,
            "left": null,
            "margin": null,
            "max_height": null,
            "max_width": null,
            "min_height": null,
            "min_width": null,
            "object_fit": null,
            "object_position": null,
            "order": null,
            "overflow": null,
            "overflow_x": null,
            "overflow_y": null,
            "padding": null,
            "right": null,
            "top": null,
            "visibility": null,
            "width": null
          }
        },
        "eba753af510e485da98592f560bb0f14": {
          "model_module": "@jupyter-widgets/controls",
          "model_name": "DescriptionStyleModel",
          "model_module_version": "1.5.0",
          "state": {
            "_model_module": "@jupyter-widgets/controls",
            "_model_module_version": "1.5.0",
            "_model_name": "DescriptionStyleModel",
            "_view_count": null,
            "_view_module": "@jupyter-widgets/base",
            "_view_module_version": "1.2.0",
            "_view_name": "StyleView",
            "description_width": ""
          }
        },
        "96e10deed00b47a7b8f887bcefb9b81b": {
          "model_module": "@jupyter-widgets/controls",
          "model_name": "HBoxModel",
          "model_module_version": "1.5.0",
          "state": {
            "_dom_classes": [],
            "_model_module": "@jupyter-widgets/controls",
            "_model_module_version": "1.5.0",
            "_model_name": "HBoxModel",
            "_view_count": null,
            "_view_module": "@jupyter-widgets/controls",
            "_view_module_version": "1.5.0",
            "_view_name": "HBoxView",
            "box_style": "",
            "children": [
              "IPY_MODEL_d70533df58734c5d9a155b36029c770e",
              "IPY_MODEL_4265d05fcbd04af2a0caa69b0db1d06c",
              "IPY_MODEL_93a05c595d334af7b9447f8afdcfaa91"
            ],
            "layout": "IPY_MODEL_4e4f3f11e02e43e59c13eb96b36e89e1"
          }
        },
        "d70533df58734c5d9a155b36029c770e": {
          "model_module": "@jupyter-widgets/controls",
          "model_name": "HTMLModel",
          "model_module_version": "1.5.0",
          "state": {
            "_dom_classes": [],
            "_model_module": "@jupyter-widgets/controls",
            "_model_module_version": "1.5.0",
            "_model_name": "HTMLModel",
            "_view_count": null,
            "_view_module": "@jupyter-widgets/controls",
            "_view_module_version": "1.5.0",
            "_view_name": "HTMLView",
            "description": "",
            "description_tooltip": null,
            "layout": "IPY_MODEL_d4b175bd430e4fdb8cb3794f86529e79",
            "placeholder": "​",
            "style": "IPY_MODEL_b3c94c2a5a324200bf2296b5eb647eaf",
            "value": "Generating train split: 100%"
          }
        },
        "4265d05fcbd04af2a0caa69b0db1d06c": {
          "model_module": "@jupyter-widgets/controls",
          "model_name": "FloatProgressModel",
          "model_module_version": "1.5.0",
          "state": {
            "_dom_classes": [],
            "_model_module": "@jupyter-widgets/controls",
            "_model_module_version": "1.5.0",
            "_model_name": "FloatProgressModel",
            "_view_count": null,
            "_view_module": "@jupyter-widgets/controls",
            "_view_module_version": "1.5.0",
            "_view_name": "ProgressView",
            "bar_style": "success",
            "description": "",
            "description_tooltip": null,
            "layout": "IPY_MODEL_89f49711ee7f4b0090e49ec5fa249e8b",
            "max": 314811,
            "min": 0,
            "orientation": "horizontal",
            "style": "IPY_MODEL_42c4a28d6d38438e8f867822dc7cc939",
            "value": 314811
          }
        },
        "93a05c595d334af7b9447f8afdcfaa91": {
          "model_module": "@jupyter-widgets/controls",
          "model_name": "HTMLModel",
          "model_module_version": "1.5.0",
          "state": {
            "_dom_classes": [],
            "_model_module": "@jupyter-widgets/controls",
            "_model_module_version": "1.5.0",
            "_model_name": "HTMLModel",
            "_view_count": null,
            "_view_module": "@jupyter-widgets/controls",
            "_view_module_version": "1.5.0",
            "_view_name": "HTMLView",
            "description": "",
            "description_tooltip": null,
            "layout": "IPY_MODEL_17f39f67558946cf90121145666952fa",
            "placeholder": "​",
            "style": "IPY_MODEL_dfbdec7c6bfb4e6cbf8f841682c48b9f",
            "value": " 314811/314811 [00:27&lt;00:00, 10938.12 examples/s]"
          }
        },
        "4e4f3f11e02e43e59c13eb96b36e89e1": {
          "model_module": "@jupyter-widgets/base",
          "model_name": "LayoutModel",
          "model_module_version": "1.2.0",
          "state": {
            "_model_module": "@jupyter-widgets/base",
            "_model_module_version": "1.2.0",
            "_model_name": "LayoutModel",
            "_view_count": null,
            "_view_module": "@jupyter-widgets/base",
            "_view_module_version": "1.2.0",
            "_view_name": "LayoutView",
            "align_content": null,
            "align_items": null,
            "align_self": null,
            "border": null,
            "bottom": null,
            "display": null,
            "flex": null,
            "flex_flow": null,
            "grid_area": null,
            "grid_auto_columns": null,
            "grid_auto_flow": null,
            "grid_auto_rows": null,
            "grid_column": null,
            "grid_gap": null,
            "grid_row": null,
            "grid_template_areas": null,
            "grid_template_columns": null,
            "grid_template_rows": null,
            "height": null,
            "justify_content": null,
            "justify_items": null,
            "left": null,
            "margin": null,
            "max_height": null,
            "max_width": null,
            "min_height": null,
            "min_width": null,
            "object_fit": null,
            "object_position": null,
            "order": null,
            "overflow": null,
            "overflow_x": null,
            "overflow_y": null,
            "padding": null,
            "right": null,
            "top": null,
            "visibility": null,
            "width": null
          }
        },
        "d4b175bd430e4fdb8cb3794f86529e79": {
          "model_module": "@jupyter-widgets/base",
          "model_name": "LayoutModel",
          "model_module_version": "1.2.0",
          "state": {
            "_model_module": "@jupyter-widgets/base",
            "_model_module_version": "1.2.0",
            "_model_name": "LayoutModel",
            "_view_count": null,
            "_view_module": "@jupyter-widgets/base",
            "_view_module_version": "1.2.0",
            "_view_name": "LayoutView",
            "align_content": null,
            "align_items": null,
            "align_self": null,
            "border": null,
            "bottom": null,
            "display": null,
            "flex": null,
            "flex_flow": null,
            "grid_area": null,
            "grid_auto_columns": null,
            "grid_auto_flow": null,
            "grid_auto_rows": null,
            "grid_column": null,
            "grid_gap": null,
            "grid_row": null,
            "grid_template_areas": null,
            "grid_template_columns": null,
            "grid_template_rows": null,
            "height": null,
            "justify_content": null,
            "justify_items": null,
            "left": null,
            "margin": null,
            "max_height": null,
            "max_width": null,
            "min_height": null,
            "min_width": null,
            "object_fit": null,
            "object_position": null,
            "order": null,
            "overflow": null,
            "overflow_x": null,
            "overflow_y": null,
            "padding": null,
            "right": null,
            "top": null,
            "visibility": null,
            "width": null
          }
        },
        "b3c94c2a5a324200bf2296b5eb647eaf": {
          "model_module": "@jupyter-widgets/controls",
          "model_name": "DescriptionStyleModel",
          "model_module_version": "1.5.0",
          "state": {
            "_model_module": "@jupyter-widgets/controls",
            "_model_module_version": "1.5.0",
            "_model_name": "DescriptionStyleModel",
            "_view_count": null,
            "_view_module": "@jupyter-widgets/base",
            "_view_module_version": "1.2.0",
            "_view_name": "StyleView",
            "description_width": ""
          }
        },
        "89f49711ee7f4b0090e49ec5fa249e8b": {
          "model_module": "@jupyter-widgets/base",
          "model_name": "LayoutModel",
          "model_module_version": "1.2.0",
          "state": {
            "_model_module": "@jupyter-widgets/base",
            "_model_module_version": "1.2.0",
            "_model_name": "LayoutModel",
            "_view_count": null,
            "_view_module": "@jupyter-widgets/base",
            "_view_module_version": "1.2.0",
            "_view_name": "LayoutView",
            "align_content": null,
            "align_items": null,
            "align_self": null,
            "border": null,
            "bottom": null,
            "display": null,
            "flex": null,
            "flex_flow": null,
            "grid_area": null,
            "grid_auto_columns": null,
            "grid_auto_flow": null,
            "grid_auto_rows": null,
            "grid_column": null,
            "grid_gap": null,
            "grid_row": null,
            "grid_template_areas": null,
            "grid_template_columns": null,
            "grid_template_rows": null,
            "height": null,
            "justify_content": null,
            "justify_items": null,
            "left": null,
            "margin": null,
            "max_height": null,
            "max_width": null,
            "min_height": null,
            "min_width": null,
            "object_fit": null,
            "object_position": null,
            "order": null,
            "overflow": null,
            "overflow_x": null,
            "overflow_y": null,
            "padding": null,
            "right": null,
            "top": null,
            "visibility": null,
            "width": null
          }
        },
        "42c4a28d6d38438e8f867822dc7cc939": {
          "model_module": "@jupyter-widgets/controls",
          "model_name": "ProgressStyleModel",
          "model_module_version": "1.5.0",
          "state": {
            "_model_module": "@jupyter-widgets/controls",
            "_model_module_version": "1.5.0",
            "_model_name": "ProgressStyleModel",
            "_view_count": null,
            "_view_module": "@jupyter-widgets/base",
            "_view_module_version": "1.2.0",
            "_view_name": "StyleView",
            "bar_color": null,
            "description_width": ""
          }
        },
        "17f39f67558946cf90121145666952fa": {
          "model_module": "@jupyter-widgets/base",
          "model_name": "LayoutModel",
          "model_module_version": "1.2.0",
          "state": {
            "_model_module": "@jupyter-widgets/base",
            "_model_module_version": "1.2.0",
            "_model_name": "LayoutModel",
            "_view_count": null,
            "_view_module": "@jupyter-widgets/base",
            "_view_module_version": "1.2.0",
            "_view_name": "LayoutView",
            "align_content": null,
            "align_items": null,
            "align_self": null,
            "border": null,
            "bottom": null,
            "display": null,
            "flex": null,
            "flex_flow": null,
            "grid_area": null,
            "grid_auto_columns": null,
            "grid_auto_flow": null,
            "grid_auto_rows": null,
            "grid_column": null,
            "grid_gap": null,
            "grid_row": null,
            "grid_template_areas": null,
            "grid_template_columns": null,
            "grid_template_rows": null,
            "height": null,
            "justify_content": null,
            "justify_items": null,
            "left": null,
            "margin": null,
            "max_height": null,
            "max_width": null,
            "min_height": null,
            "min_width": null,
            "object_fit": null,
            "object_position": null,
            "order": null,
            "overflow": null,
            "overflow_x": null,
            "overflow_y": null,
            "padding": null,
            "right": null,
            "top": null,
            "visibility": null,
            "width": null
          }
        },
        "dfbdec7c6bfb4e6cbf8f841682c48b9f": {
          "model_module": "@jupyter-widgets/controls",
          "model_name": "DescriptionStyleModel",
          "model_module_version": "1.5.0",
          "state": {
            "_model_module": "@jupyter-widgets/controls",
            "_model_module_version": "1.5.0",
            "_model_name": "DescriptionStyleModel",
            "_view_count": null,
            "_view_module": "@jupyter-widgets/base",
            "_view_module_version": "1.2.0",
            "_view_name": "StyleView",
            "description_width": ""
          }
        },
        "69fb15ad6cf04f89b3f3999f978d6014": {
          "model_module": "@jupyter-widgets/controls",
          "model_name": "HBoxModel",
          "model_module_version": "1.5.0",
          "state": {
            "_dom_classes": [],
            "_model_module": "@jupyter-widgets/controls",
            "_model_module_version": "1.5.0",
            "_model_name": "HBoxModel",
            "_view_count": null,
            "_view_module": "@jupyter-widgets/controls",
            "_view_module_version": "1.5.0",
            "_view_name": "HBoxView",
            "box_style": "",
            "children": [
              "IPY_MODEL_f9b9c05e7e75499e98aa117f3ae60fff",
              "IPY_MODEL_500899c380e14e0c8f8cc39d94c0ab7e",
              "IPY_MODEL_2756edb8adbe457bb109ef538b9c97b3"
            ],
            "layout": "IPY_MODEL_542476c37eaa49a58e7e40893e665109"
          }
        },
        "f9b9c05e7e75499e98aa117f3ae60fff": {
          "model_module": "@jupyter-widgets/controls",
          "model_name": "HTMLModel",
          "model_module_version": "1.5.0",
          "state": {
            "_dom_classes": [],
            "_model_module": "@jupyter-widgets/controls",
            "_model_module_version": "1.5.0",
            "_model_name": "HTMLModel",
            "_view_count": null,
            "_view_module": "@jupyter-widgets/controls",
            "_view_module_version": "1.5.0",
            "_view_name": "HTMLView",
            "description": "",
            "description_tooltip": null,
            "layout": "IPY_MODEL_aa15a9dc8a7547919b1e067bcfeb9c26",
            "placeholder": "​",
            "style": "IPY_MODEL_b09414c7c94948918a7dcf813af5fb40",
            "value": "Filter: 100%"
          }
        },
        "500899c380e14e0c8f8cc39d94c0ab7e": {
          "model_module": "@jupyter-widgets/controls",
          "model_name": "FloatProgressModel",
          "model_module_version": "1.5.0",
          "state": {
            "_dom_classes": [],
            "_model_module": "@jupyter-widgets/controls",
            "_model_module_version": "1.5.0",
            "_model_name": "FloatProgressModel",
            "_view_count": null,
            "_view_module": "@jupyter-widgets/controls",
            "_view_module_version": "1.5.0",
            "_view_name": "ProgressView",
            "bar_style": "success",
            "description": "",
            "description_tooltip": null,
            "layout": "IPY_MODEL_c84e0f93456e4d42b1825ca0c6c680f3",
            "max": 314811,
            "min": 0,
            "orientation": "horizontal",
            "style": "IPY_MODEL_efe12e0b34e64a61a655826b57edcfb1",
            "value": 314811
          }
        },
        "2756edb8adbe457bb109ef538b9c97b3": {
          "model_module": "@jupyter-widgets/controls",
          "model_name": "HTMLModel",
          "model_module_version": "1.5.0",
          "state": {
            "_dom_classes": [],
            "_model_module": "@jupyter-widgets/controls",
            "_model_module_version": "1.5.0",
            "_model_name": "HTMLModel",
            "_view_count": null,
            "_view_module": "@jupyter-widgets/controls",
            "_view_module_version": "1.5.0",
            "_view_name": "HTMLView",
            "description": "",
            "description_tooltip": null,
            "layout": "IPY_MODEL_74332bcfcb5440a8971781a4efe5b0c5",
            "placeholder": "​",
            "style": "IPY_MODEL_4cae59a7e8714f75b67397de77730d3c",
            "value": " 314811/314811 [00:06&lt;00:00, 50091.44 examples/s]"
          }
        },
        "542476c37eaa49a58e7e40893e665109": {
          "model_module": "@jupyter-widgets/base",
          "model_name": "LayoutModel",
          "model_module_version": "1.2.0",
          "state": {
            "_model_module": "@jupyter-widgets/base",
            "_model_module_version": "1.2.0",
            "_model_name": "LayoutModel",
            "_view_count": null,
            "_view_module": "@jupyter-widgets/base",
            "_view_module_version": "1.2.0",
            "_view_name": "LayoutView",
            "align_content": null,
            "align_items": null,
            "align_self": null,
            "border": null,
            "bottom": null,
            "display": null,
            "flex": null,
            "flex_flow": null,
            "grid_area": null,
            "grid_auto_columns": null,
            "grid_auto_flow": null,
            "grid_auto_rows": null,
            "grid_column": null,
            "grid_gap": null,
            "grid_row": null,
            "grid_template_areas": null,
            "grid_template_columns": null,
            "grid_template_rows": null,
            "height": null,
            "justify_content": null,
            "justify_items": null,
            "left": null,
            "margin": null,
            "max_height": null,
            "max_width": null,
            "min_height": null,
            "min_width": null,
            "object_fit": null,
            "object_position": null,
            "order": null,
            "overflow": null,
            "overflow_x": null,
            "overflow_y": null,
            "padding": null,
            "right": null,
            "top": null,
            "visibility": null,
            "width": null
          }
        },
        "aa15a9dc8a7547919b1e067bcfeb9c26": {
          "model_module": "@jupyter-widgets/base",
          "model_name": "LayoutModel",
          "model_module_version": "1.2.0",
          "state": {
            "_model_module": "@jupyter-widgets/base",
            "_model_module_version": "1.2.0",
            "_model_name": "LayoutModel",
            "_view_count": null,
            "_view_module": "@jupyter-widgets/base",
            "_view_module_version": "1.2.0",
            "_view_name": "LayoutView",
            "align_content": null,
            "align_items": null,
            "align_self": null,
            "border": null,
            "bottom": null,
            "display": null,
            "flex": null,
            "flex_flow": null,
            "grid_area": null,
            "grid_auto_columns": null,
            "grid_auto_flow": null,
            "grid_auto_rows": null,
            "grid_column": null,
            "grid_gap": null,
            "grid_row": null,
            "grid_template_areas": null,
            "grid_template_columns": null,
            "grid_template_rows": null,
            "height": null,
            "justify_content": null,
            "justify_items": null,
            "left": null,
            "margin": null,
            "max_height": null,
            "max_width": null,
            "min_height": null,
            "min_width": null,
            "object_fit": null,
            "object_position": null,
            "order": null,
            "overflow": null,
            "overflow_x": null,
            "overflow_y": null,
            "padding": null,
            "right": null,
            "top": null,
            "visibility": null,
            "width": null
          }
        },
        "b09414c7c94948918a7dcf813af5fb40": {
          "model_module": "@jupyter-widgets/controls",
          "model_name": "DescriptionStyleModel",
          "model_module_version": "1.5.0",
          "state": {
            "_model_module": "@jupyter-widgets/controls",
            "_model_module_version": "1.5.0",
            "_model_name": "DescriptionStyleModel",
            "_view_count": null,
            "_view_module": "@jupyter-widgets/base",
            "_view_module_version": "1.2.0",
            "_view_name": "StyleView",
            "description_width": ""
          }
        },
        "c84e0f93456e4d42b1825ca0c6c680f3": {
          "model_module": "@jupyter-widgets/base",
          "model_name": "LayoutModel",
          "model_module_version": "1.2.0",
          "state": {
            "_model_module": "@jupyter-widgets/base",
            "_model_module_version": "1.2.0",
            "_model_name": "LayoutModel",
            "_view_count": null,
            "_view_module": "@jupyter-widgets/base",
            "_view_module_version": "1.2.0",
            "_view_name": "LayoutView",
            "align_content": null,
            "align_items": null,
            "align_self": null,
            "border": null,
            "bottom": null,
            "display": null,
            "flex": null,
            "flex_flow": null,
            "grid_area": null,
            "grid_auto_columns": null,
            "grid_auto_flow": null,
            "grid_auto_rows": null,
            "grid_column": null,
            "grid_gap": null,
            "grid_row": null,
            "grid_template_areas": null,
            "grid_template_columns": null,
            "grid_template_rows": null,
            "height": null,
            "justify_content": null,
            "justify_items": null,
            "left": null,
            "margin": null,
            "max_height": null,
            "max_width": null,
            "min_height": null,
            "min_width": null,
            "object_fit": null,
            "object_position": null,
            "order": null,
            "overflow": null,
            "overflow_x": null,
            "overflow_y": null,
            "padding": null,
            "right": null,
            "top": null,
            "visibility": null,
            "width": null
          }
        },
        "efe12e0b34e64a61a655826b57edcfb1": {
          "model_module": "@jupyter-widgets/controls",
          "model_name": "ProgressStyleModel",
          "model_module_version": "1.5.0",
          "state": {
            "_model_module": "@jupyter-widgets/controls",
            "_model_module_version": "1.5.0",
            "_model_name": "ProgressStyleModel",
            "_view_count": null,
            "_view_module": "@jupyter-widgets/base",
            "_view_module_version": "1.2.0",
            "_view_name": "StyleView",
            "bar_color": null,
            "description_width": ""
          }
        },
        "74332bcfcb5440a8971781a4efe5b0c5": {
          "model_module": "@jupyter-widgets/base",
          "model_name": "LayoutModel",
          "model_module_version": "1.2.0",
          "state": {
            "_model_module": "@jupyter-widgets/base",
            "_model_module_version": "1.2.0",
            "_model_name": "LayoutModel",
            "_view_count": null,
            "_view_module": "@jupyter-widgets/base",
            "_view_module_version": "1.2.0",
            "_view_name": "LayoutView",
            "align_content": null,
            "align_items": null,
            "align_self": null,
            "border": null,
            "bottom": null,
            "display": null,
            "flex": null,
            "flex_flow": null,
            "grid_area": null,
            "grid_auto_columns": null,
            "grid_auto_flow": null,
            "grid_auto_rows": null,
            "grid_column": null,
            "grid_gap": null,
            "grid_row": null,
            "grid_template_areas": null,
            "grid_template_columns": null,
            "grid_template_rows": null,
            "height": null,
            "justify_content": null,
            "justify_items": null,
            "left": null,
            "margin": null,
            "max_height": null,
            "max_width": null,
            "min_height": null,
            "min_width": null,
            "object_fit": null,
            "object_position": null,
            "order": null,
            "overflow": null,
            "overflow_x": null,
            "overflow_y": null,
            "padding": null,
            "right": null,
            "top": null,
            "visibility": null,
            "width": null
          }
        },
        "4cae59a7e8714f75b67397de77730d3c": {
          "model_module": "@jupyter-widgets/controls",
          "model_name": "DescriptionStyleModel",
          "model_module_version": "1.5.0",
          "state": {
            "_model_module": "@jupyter-widgets/controls",
            "_model_module_version": "1.5.0",
            "_model_name": "DescriptionStyleModel",
            "_view_count": null,
            "_view_module": "@jupyter-widgets/base",
            "_view_module_version": "1.2.0",
            "_view_name": "StyleView",
            "description_width": ""
          }
        },
        "f1bb451f37fc4d7f98b34175106ca830": {
          "model_module": "@jupyter-widgets/controls",
          "model_name": "HBoxModel",
          "model_module_version": "1.5.0",
          "state": {
            "_dom_classes": [],
            "_model_module": "@jupyter-widgets/controls",
            "_model_module_version": "1.5.0",
            "_model_name": "HBoxModel",
            "_view_count": null,
            "_view_module": "@jupyter-widgets/controls",
            "_view_module_version": "1.5.0",
            "_view_name": "HBoxView",
            "box_style": "",
            "children": [
              "IPY_MODEL_f12cefd982524e84b81bdd3d464f9fcb",
              "IPY_MODEL_07f50516ce9943668a9715612982b11d",
              "IPY_MODEL_0b9cd2f9b7b84160b1b51be8f0b2b39b"
            ],
            "layout": "IPY_MODEL_c398e95abde24acb8361bdb3028bcefa"
          }
        },
        "f12cefd982524e84b81bdd3d464f9fcb": {
          "model_module": "@jupyter-widgets/controls",
          "model_name": "HTMLModel",
          "model_module_version": "1.5.0",
          "state": {
            "_dom_classes": [],
            "_model_module": "@jupyter-widgets/controls",
            "_model_module_version": "1.5.0",
            "_model_name": "HTMLModel",
            "_view_count": null,
            "_view_module": "@jupyter-widgets/controls",
            "_view_module_version": "1.5.0",
            "_view_name": "HTMLView",
            "description": "",
            "description_tooltip": null,
            "layout": "IPY_MODEL_576f2b43b4ca43e5abe91970ce8252a5",
            "placeholder": "​",
            "style": "IPY_MODEL_a8dd7db675094da780dfc2273f876119",
            "value": "Creating json from Arrow format: 100%"
          }
        },
        "07f50516ce9943668a9715612982b11d": {
          "model_module": "@jupyter-widgets/controls",
          "model_name": "FloatProgressModel",
          "model_module_version": "1.5.0",
          "state": {
            "_dom_classes": [],
            "_model_module": "@jupyter-widgets/controls",
            "_model_module_version": "1.5.0",
            "_model_name": "FloatProgressModel",
            "_view_count": null,
            "_view_module": "@jupyter-widgets/controls",
            "_view_module_version": "1.5.0",
            "_view_name": "ProgressView",
            "bar_style": "success",
            "description": "",
            "description_tooltip": null,
            "layout": "IPY_MODEL_034dde2fb0da46b1a737fc6768f10b7f",
            "max": 68,
            "min": 0,
            "orientation": "horizontal",
            "style": "IPY_MODEL_2e47f5afa4b84e83b5779fafa1fb95b8",
            "value": 68
          }
        },
        "0b9cd2f9b7b84160b1b51be8f0b2b39b": {
          "model_module": "@jupyter-widgets/controls",
          "model_name": "HTMLModel",
          "model_module_version": "1.5.0",
          "state": {
            "_dom_classes": [],
            "_model_module": "@jupyter-widgets/controls",
            "_model_module_version": "1.5.0",
            "_model_name": "HTMLModel",
            "_view_count": null,
            "_view_module": "@jupyter-widgets/controls",
            "_view_module_version": "1.5.0",
            "_view_name": "HTMLView",
            "description": "",
            "description_tooltip": null,
            "layout": "IPY_MODEL_4b3e6987c267472cbe9e1aa0a01d180a",
            "placeholder": "​",
            "style": "IPY_MODEL_b5e0951292704945832f6de24c89d9ee",
            "value": " 68/68 [00:10&lt;00:00,  4.72ba/s]"
          }
        },
        "c398e95abde24acb8361bdb3028bcefa": {
          "model_module": "@jupyter-widgets/base",
          "model_name": "LayoutModel",
          "model_module_version": "1.2.0",
          "state": {
            "_model_module": "@jupyter-widgets/base",
            "_model_module_version": "1.2.0",
            "_model_name": "LayoutModel",
            "_view_count": null,
            "_view_module": "@jupyter-widgets/base",
            "_view_module_version": "1.2.0",
            "_view_name": "LayoutView",
            "align_content": null,
            "align_items": null,
            "align_self": null,
            "border": null,
            "bottom": null,
            "display": null,
            "flex": null,
            "flex_flow": null,
            "grid_area": null,
            "grid_auto_columns": null,
            "grid_auto_flow": null,
            "grid_auto_rows": null,
            "grid_column": null,
            "grid_gap": null,
            "grid_row": null,
            "grid_template_areas": null,
            "grid_template_columns": null,
            "grid_template_rows": null,
            "height": null,
            "justify_content": null,
            "justify_items": null,
            "left": null,
            "margin": null,
            "max_height": null,
            "max_width": null,
            "min_height": null,
            "min_width": null,
            "object_fit": null,
            "object_position": null,
            "order": null,
            "overflow": null,
            "overflow_x": null,
            "overflow_y": null,
            "padding": null,
            "right": null,
            "top": null,
            "visibility": null,
            "width": null
          }
        },
        "576f2b43b4ca43e5abe91970ce8252a5": {
          "model_module": "@jupyter-widgets/base",
          "model_name": "LayoutModel",
          "model_module_version": "1.2.0",
          "state": {
            "_model_module": "@jupyter-widgets/base",
            "_model_module_version": "1.2.0",
            "_model_name": "LayoutModel",
            "_view_count": null,
            "_view_module": "@jupyter-widgets/base",
            "_view_module_version": "1.2.0",
            "_view_name": "LayoutView",
            "align_content": null,
            "align_items": null,
            "align_self": null,
            "border": null,
            "bottom": null,
            "display": null,
            "flex": null,
            "flex_flow": null,
            "grid_area": null,
            "grid_auto_columns": null,
            "grid_auto_flow": null,
            "grid_auto_rows": null,
            "grid_column": null,
            "grid_gap": null,
            "grid_row": null,
            "grid_template_areas": null,
            "grid_template_columns": null,
            "grid_template_rows": null,
            "height": null,
            "justify_content": null,
            "justify_items": null,
            "left": null,
            "margin": null,
            "max_height": null,
            "max_width": null,
            "min_height": null,
            "min_width": null,
            "object_fit": null,
            "object_position": null,
            "order": null,
            "overflow": null,
            "overflow_x": null,
            "overflow_y": null,
            "padding": null,
            "right": null,
            "top": null,
            "visibility": null,
            "width": null
          }
        },
        "a8dd7db675094da780dfc2273f876119": {
          "model_module": "@jupyter-widgets/controls",
          "model_name": "DescriptionStyleModel",
          "model_module_version": "1.5.0",
          "state": {
            "_model_module": "@jupyter-widgets/controls",
            "_model_module_version": "1.5.0",
            "_model_name": "DescriptionStyleModel",
            "_view_count": null,
            "_view_module": "@jupyter-widgets/base",
            "_view_module_version": "1.2.0",
            "_view_name": "StyleView",
            "description_width": ""
          }
        },
        "034dde2fb0da46b1a737fc6768f10b7f": {
          "model_module": "@jupyter-widgets/base",
          "model_name": "LayoutModel",
          "model_module_version": "1.2.0",
          "state": {
            "_model_module": "@jupyter-widgets/base",
            "_model_module_version": "1.2.0",
            "_model_name": "LayoutModel",
            "_view_count": null,
            "_view_module": "@jupyter-widgets/base",
            "_view_module_version": "1.2.0",
            "_view_name": "LayoutView",
            "align_content": null,
            "align_items": null,
            "align_self": null,
            "border": null,
            "bottom": null,
            "display": null,
            "flex": null,
            "flex_flow": null,
            "grid_area": null,
            "grid_auto_columns": null,
            "grid_auto_flow": null,
            "grid_auto_rows": null,
            "grid_column": null,
            "grid_gap": null,
            "grid_row": null,
            "grid_template_areas": null,
            "grid_template_columns": null,
            "grid_template_rows": null,
            "height": null,
            "justify_content": null,
            "justify_items": null,
            "left": null,
            "margin": null,
            "max_height": null,
            "max_width": null,
            "min_height": null,
            "min_width": null,
            "object_fit": null,
            "object_position": null,
            "order": null,
            "overflow": null,
            "overflow_x": null,
            "overflow_y": null,
            "padding": null,
            "right": null,
            "top": null,
            "visibility": null,
            "width": null
          }
        },
        "2e47f5afa4b84e83b5779fafa1fb95b8": {
          "model_module": "@jupyter-widgets/controls",
          "model_name": "ProgressStyleModel",
          "model_module_version": "1.5.0",
          "state": {
            "_model_module": "@jupyter-widgets/controls",
            "_model_module_version": "1.5.0",
            "_model_name": "ProgressStyleModel",
            "_view_count": null,
            "_view_module": "@jupyter-widgets/base",
            "_view_module_version": "1.2.0",
            "_view_name": "StyleView",
            "bar_color": null,
            "description_width": ""
          }
        },
        "4b3e6987c267472cbe9e1aa0a01d180a": {
          "model_module": "@jupyter-widgets/base",
          "model_name": "LayoutModel",
          "model_module_version": "1.2.0",
          "state": {
            "_model_module": "@jupyter-widgets/base",
            "_model_module_version": "1.2.0",
            "_model_name": "LayoutModel",
            "_view_count": null,
            "_view_module": "@jupyter-widgets/base",
            "_view_module_version": "1.2.0",
            "_view_name": "LayoutView",
            "align_content": null,
            "align_items": null,
            "align_self": null,
            "border": null,
            "bottom": null,
            "display": null,
            "flex": null,
            "flex_flow": null,
            "grid_area": null,
            "grid_auto_columns": null,
            "grid_auto_flow": null,
            "grid_auto_rows": null,
            "grid_column": null,
            "grid_gap": null,
            "grid_row": null,
            "grid_template_areas": null,
            "grid_template_columns": null,
            "grid_template_rows": null,
            "height": null,
            "justify_content": null,
            "justify_items": null,
            "left": null,
            "margin": null,
            "max_height": null,
            "max_width": null,
            "min_height": null,
            "min_width": null,
            "object_fit": null,
            "object_position": null,
            "order": null,
            "overflow": null,
            "overflow_x": null,
            "overflow_y": null,
            "padding": null,
            "right": null,
            "top": null,
            "visibility": null,
            "width": null
          }
        },
        "b5e0951292704945832f6de24c89d9ee": {
          "model_module": "@jupyter-widgets/controls",
          "model_name": "DescriptionStyleModel",
          "model_module_version": "1.5.0",
          "state": {
            "_model_module": "@jupyter-widgets/controls",
            "_model_module_version": "1.5.0",
            "_model_name": "DescriptionStyleModel",
            "_view_count": null,
            "_view_module": "@jupyter-widgets/base",
            "_view_module_version": "1.2.0",
            "_view_name": "StyleView",
            "description_width": ""
          }
        }
      }
    }
  },
  "nbformat": 4,
  "nbformat_minor": 0
}